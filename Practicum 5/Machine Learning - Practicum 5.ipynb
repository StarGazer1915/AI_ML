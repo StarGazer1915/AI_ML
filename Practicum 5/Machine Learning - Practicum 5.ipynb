{
 "cells": [
  {
   "cell_type": "markdown",
   "id": "721db250",
   "metadata": {},
   "source": [
    "# Machine Learning - Practicum 5\n",
    "<b>Student:</b> Justin Klein<br>\n",
    "<b>Nummer:</b> 1707815"
   ]
  },
  {
   "cell_type": "code",
   "execution_count": 1,
   "id": "aef94ead",
   "metadata": {},
   "outputs": [],
   "source": [
    "import ssl\n",
    "import tensorflow as tf\n",
    "import tensorflow.keras.datasets.cifar10 as cifar\n",
    "from tensorflow.keras.preprocessing.image import ImageDataGenerator\n",
    "from tensorflow.keras.models import Sequential\n",
    "from tensorflow.keras.layers import Dense, Dropout, Activation\n",
    "from tensorflow.keras.layers import Conv2D, MaxPooling2D, ZeroPadding2D, GlobalAveragePooling2D, Flatten\n",
    "from tensorflow.keras.layers import BatchNormalization\n",
    "from tensorflow.keras import utils\n",
    "\n",
    "from sklearn.model_selection import train_test_split\n",
    "from sklearn.metrics import accuracy_score\n",
    "\n",
    "import matplotlib.pyplot as plt"
   ]
  },
  {
   "cell_type": "markdown",
   "id": "79c96225",
   "metadata": {},
   "source": [
    "## Data Analysis and Preparation\n",
    "Eerst laden we de cifar10 data in en verdelen we de data die gebruikt wordt voor het trainen en testen in hun bijbehorende variabelen."
   ]
  },
  {
   "cell_type": "code",
   "execution_count": 2,
   "id": "a014bdd7",
   "metadata": {
    "scrolled": true
   },
   "outputs": [],
   "source": [
    "ssl._create_default_https_context = ssl._create_unverified_context\n",
    "data = cifar.load_data()"
   ]
  },
  {
   "cell_type": "code",
   "execution_count": 3,
   "id": "db739f99",
   "metadata": {
    "scrolled": true
   },
   "outputs": [
    {
     "name": "stdout",
     "output_type": "stream",
     "text": [
      "Length of train_data feature records: 50000, and target records: 50000\n",
      "Length of test_data feature records: 10000, and target records: 10000\n"
     ]
    }
   ],
   "source": [
    "train_data = data[0]\n",
    "test_data = data[1]\n",
    "\n",
    "print(f\"Length of train_data feature records: {len(train_data[0])}, and target records: {len(train_data[1])}\")\n",
    "print(f\"Length of test_data feature records: {len(test_data[0])}, and target records: {len(test_data[1])}\")"
   ]
  },
  {
   "cell_type": "markdown",
   "id": "5b9c8f64",
   "metadata": {},
   "source": [
    "Nu verdelen we de features en targets in nieuwe variabelen zodat we het kunnen gebruiken in een CNN. De features normalizeren we en voor de targets gebruiken we one-hot encoding."
   ]
  },
  {
   "cell_type": "code",
   "execution_count": 4,
   "id": "00e0434e",
   "metadata": {},
   "outputs": [],
   "source": [
    "X_train_data = train_data[0] / 255\n",
    "X_test_data = test_data[0] / 255\n",
    "\n",
    "y_train_data = utils.to_categorical(train_data[1], 10)\n",
    "y_test_data = utils.to_categorical(test_data[1], 10)"
   ]
  },
  {
   "cell_type": "markdown",
   "id": "e0aa48eb",
   "metadata": {},
   "source": [
    "Nu zien we dat de data goed ingedeeld is in variabelen en dat de data de juiste input dimensies heeft voor het CNN."
   ]
  },
  {
   "cell_type": "code",
   "execution_count": 5,
   "id": "bf5cff25",
   "metadata": {
    "scrolled": true
   },
   "outputs": [
    {
     "name": "stdout",
     "output_type": "stream",
     "text": [
      "Size of a picture in X_train is: 32x32\n",
      "Size of a picture in X_test is: 32x32\n"
     ]
    }
   ],
   "source": [
    "print(f\"Size of a picture in X_train is: {len(X_train_data[0])}x{len(X_train_data[0][0])}\")\n",
    "print(f\"Size of a picture in X_test is: {len(X_test_data[0])}x{len(X_test_data[0][0])}\")"
   ]
  },
  {
   "cell_type": "markdown",
   "id": "62138891",
   "metadata": {},
   "source": [
    "## Modelling CNN\n",
    "Nu kunnen we het convolutionele netwerk bouwen. Voor het netwerk had ik in de eerste instantie gekozen voor twee convolutionele layers met maxpools (leNet), maar dit gaf nog niet het gewenste resultaat (~0.65 accuracy). Ik heb evenveel filters gekozen als de breedte van de hoeveelheid pixels, dit bleek een goed startpunt te zijn. Toen ik meer layers toevoegde voor iedere pool zag ik de accuracy omhoog gaan (van 0.65 naar 0.75). Dit heb ik vervolgens ge-fine-tuned en vaak getest tot ik bij de juiste hoeveelheid layers, filters en filter-groottes kwam. Toen ik padding toevoegde gaf dat nog iets meer nauwkeurigheid. De maxPooling heb ik op 2x2 gehouden en de strides op (2,2) gezet aangezien het een beter resultaat gaf dan de default stride (1,1). Uiteindelijk heb ik gekozen voor een FC layer van 512 dense nodes en een dropout layer (20%). Ik koos voor 512 nodes aangezien meer dan 512 het netwerk trager maakte en het er ook minder nauwkeurig van werdt. Minder dan 512 nodes maakt het netwerk sneller maar ook minder nauwkeurig. "
   ]
  },
  {
   "cell_type": "code",
   "execution_count": 6,
   "id": "da22bb13",
   "metadata": {
    "scrolled": true
   },
   "outputs": [],
   "source": [
    "model = Sequential()\n",
    "\n",
    "# ========== Convolution Layer + Pool ==========\n",
    "model.add(Conv2D(filters=32, padding='same', kernel_size=(3, 3), input_shape=(32,32,3)))\n",
    "model.add(BatchNormalization(axis=-1))\n",
    "model.add(Activation('relu'))\n",
    "\n",
    "model.add(Conv2D(filters=32, padding='same', kernel_size=(3, 3)))\n",
    "model.add(BatchNormalization(axis=-1))\n",
    "model.add(Activation('relu'))\n",
    "\n",
    "model.add(MaxPooling2D(pool_size=(2,2), strides=(2,2)))\n",
    "\n",
    "\n",
    "# ========== Convolution Layer + Pool ==========\n",
    "model.add(Conv2D(filters=64, padding='same', kernel_size=(3, 3)))\n",
    "model.add(BatchNormalization(axis=-1))\n",
    "model.add(Activation('relu'))\n",
    "\n",
    "model.add(Conv2D(filters=64, padding='same', kernel_size=(3, 3)))\n",
    "model.add(BatchNormalization(axis=-1))\n",
    "model.add(Activation('relu'))\n",
    "\n",
    "model.add(Conv2D(filters=64, padding='same', kernel_size=(3, 3)))\n",
    "model.add(BatchNormalization(axis=-1))\n",
    "model.add(Activation('relu'))\n",
    "\n",
    "model.add(MaxPooling2D(pool_size=(2,2), strides=(2,2)))\n",
    "\n",
    "\n",
    "# ========== Convolution Layer + Pool + Flattening ==========\n",
    "model.add(Conv2D(filters=128, padding='same', kernel_size=(3, 3)))\n",
    "model.add(BatchNormalization(axis=-1))\n",
    "model.add(Activation('relu'))\n",
    "\n",
    "model.add(Conv2D(filters=128, padding='same', kernel_size=(3, 3)))\n",
    "model.add(BatchNormalization(axis=-1))\n",
    "model.add(Activation('relu'))\n",
    "\n",
    "model.add(MaxPooling2D(pool_size=(2,2), strides=(1,1)))\n",
    "model.add(Flatten())\n",
    "\n",
    "\n",
    "# ========== FC Layers + Dropout ==========\n",
    "model.add(Dense(512))\n",
    "model.add(Activation('relu'))\n",
    "\n",
    "model.add(Dropout(0.2))\n",
    "model.add(Dense(10))\n",
    "model.add(Activation('softmax'))\n"
   ]
  },
  {
   "cell_type": "markdown",
   "id": "ba2c6531",
   "metadata": {},
   "source": [
    "Vervolgens ziet het netwerk er zo uit:"
   ]
  },
  {
   "cell_type": "code",
   "execution_count": 7,
   "id": "f57ead19",
   "metadata": {
    "scrolled": true
   },
   "outputs": [
    {
     "name": "stdout",
     "output_type": "stream",
     "text": [
      "Model: \"sequential\"\n",
      "_________________________________________________________________\n",
      "Layer (type)                 Output Shape              Param #   \n",
      "=================================================================\n",
      "conv2d (Conv2D)              (None, 32, 32, 32)        896       \n",
      "_________________________________________________________________\n",
      "batch_normalization (BatchNo (None, 32, 32, 32)        128       \n",
      "_________________________________________________________________\n",
      "activation (Activation)      (None, 32, 32, 32)        0         \n",
      "_________________________________________________________________\n",
      "conv2d_1 (Conv2D)            (None, 32, 32, 32)        9248      \n",
      "_________________________________________________________________\n",
      "batch_normalization_1 (Batch (None, 32, 32, 32)        128       \n",
      "_________________________________________________________________\n",
      "activation_1 (Activation)    (None, 32, 32, 32)        0         \n",
      "_________________________________________________________________\n",
      "max_pooling2d (MaxPooling2D) (None, 16, 16, 32)        0         \n",
      "_________________________________________________________________\n",
      "conv2d_2 (Conv2D)            (None, 16, 16, 64)        18496     \n",
      "_________________________________________________________________\n",
      "batch_normalization_2 (Batch (None, 16, 16, 64)        256       \n",
      "_________________________________________________________________\n",
      "activation_2 (Activation)    (None, 16, 16, 64)        0         \n",
      "_________________________________________________________________\n",
      "conv2d_3 (Conv2D)            (None, 16, 16, 64)        36928     \n",
      "_________________________________________________________________\n",
      "batch_normalization_3 (Batch (None, 16, 16, 64)        256       \n",
      "_________________________________________________________________\n",
      "activation_3 (Activation)    (None, 16, 16, 64)        0         \n",
      "_________________________________________________________________\n",
      "conv2d_4 (Conv2D)            (None, 16, 16, 64)        36928     \n",
      "_________________________________________________________________\n",
      "batch_normalization_4 (Batch (None, 16, 16, 64)        256       \n",
      "_________________________________________________________________\n",
      "activation_4 (Activation)    (None, 16, 16, 64)        0         \n",
      "_________________________________________________________________\n",
      "max_pooling2d_1 (MaxPooling2 (None, 8, 8, 64)          0         \n",
      "_________________________________________________________________\n",
      "conv2d_5 (Conv2D)            (None, 8, 8, 128)         73856     \n",
      "_________________________________________________________________\n",
      "batch_normalization_5 (Batch (None, 8, 8, 128)         512       \n",
      "_________________________________________________________________\n",
      "activation_5 (Activation)    (None, 8, 8, 128)         0         \n",
      "_________________________________________________________________\n",
      "conv2d_6 (Conv2D)            (None, 8, 8, 128)         147584    \n",
      "_________________________________________________________________\n",
      "batch_normalization_6 (Batch (None, 8, 8, 128)         512       \n",
      "_________________________________________________________________\n",
      "activation_6 (Activation)    (None, 8, 8, 128)         0         \n",
      "_________________________________________________________________\n",
      "max_pooling2d_2 (MaxPooling2 (None, 7, 7, 128)         0         \n",
      "_________________________________________________________________\n",
      "flatten (Flatten)            (None, 6272)              0         \n",
      "_________________________________________________________________\n",
      "dense (Dense)                (None, 512)               3211776   \n",
      "_________________________________________________________________\n",
      "activation_7 (Activation)    (None, 512)               0         \n",
      "_________________________________________________________________\n",
      "dropout (Dropout)            (None, 512)               0         \n",
      "_________________________________________________________________\n",
      "dense_1 (Dense)              (None, 10)                5130      \n",
      "_________________________________________________________________\n",
      "activation_8 (Activation)    (None, 10)                0         \n",
      "=================================================================\n",
      "Total params: 3,542,890\n",
      "Trainable params: 3,541,866\n",
      "Non-trainable params: 1,024\n",
      "_________________________________________________________________\n"
     ]
    }
   ],
   "source": [
    "model.summary()"
   ]
  },
  {
   "cell_type": "markdown",
   "id": "f57cfe3b",
   "metadata": {},
   "source": [
    "Nu compilen we het netwerk, en omdat we met one-hot encodig werken gebruiken we 'categorical_crossentropy' en ik heb de 'adam' optimizer gekozen voor een kortere trainingstijd."
   ]
  },
  {
   "cell_type": "code",
   "execution_count": 8,
   "id": "3e4b48ea",
   "metadata": {},
   "outputs": [],
   "source": [
    "model.compile(loss='categorical_crossentropy', optimizer='adam', metrics=['accuracy'])"
   ]
  },
  {
   "cell_type": "markdown",
   "id": "58225b31",
   "metadata": {},
   "source": [
    "## Training the Model\n",
    "Nu we het model hebben opgesteld gaan we het model trainen met de trainingsdata. Ik heb simpelweg de batch_size op 32 gelaten (default) en de hoeveelheid epochs op 7, want meer dan 15 leidt tot een overfit model. Ik gebruik de waardes uit de test_data als validatiedata wat later in de grafiek gebruikt kan worden voor de visualisatie."
   ]
  },
  {
   "cell_type": "code",
   "execution_count": 9,
   "id": "77132205",
   "metadata": {
    "tags": []
   },
   "outputs": [
    {
     "name": "stdout",
     "output_type": "stream",
     "text": [
      "Epoch 1/7\n",
      "1563/1563 [==============================] - 19s 11ms/step - loss: 1.6936 - accuracy: 0.4079 - val_loss: 1.3066 - val_accuracy: 0.5238\n",
      "Epoch 2/7\n",
      "1563/1563 [==============================] - 16s 11ms/step - loss: 1.1149 - accuracy: 0.6012 - val_loss: 1.0765 - val_accuracy: 0.6312\n",
      "Epoch 3/7\n",
      "1563/1563 [==============================] - 16s 10ms/step - loss: 0.8929 - accuracy: 0.6865 - val_loss: 1.0874 - val_accuracy: 0.6287\n",
      "Epoch 4/7\n",
      "1563/1563 [==============================] - 16s 10ms/step - loss: 0.7583 - accuracy: 0.7362 - val_loss: 0.8598 - val_accuracy: 0.7144\n",
      "Epoch 5/7\n",
      "1563/1563 [==============================] - 16s 10ms/step - loss: 0.6578 - accuracy: 0.7760 - val_loss: 0.7364 - val_accuracy: 0.7556\n",
      "Epoch 6/7\n",
      "1563/1563 [==============================] - 16s 10ms/step - loss: 0.5692 - accuracy: 0.8053 - val_loss: 0.6229 - val_accuracy: 0.7951\n",
      "Epoch 7/7\n",
      "1563/1563 [==============================] - 16s 11ms/step - loss: 0.4953 - accuracy: 0.8324 - val_loss: 0.6047 - val_accuracy: 0.7982\n"
     ]
    }
   ],
   "source": [
    "training = model.fit(X_train_data, y_train_data, batch_size=32, epochs=7, verbose=1, validation_data=(X_test_data, y_test_data))"
   ]
  },
  {
   "cell_type": "markdown",
   "id": "403ca0b3",
   "metadata": {},
   "source": [
    "We zien dat hier een hoge accuracy gehaald wordt. Het is dus nu tijd om het op de testset uit te voeren om de uiteindelijke accuracy te berekenen."
   ]
  },
  {
   "cell_type": "markdown",
   "id": "ab1f8714",
   "metadata": {
    "tags": []
   },
   "source": [
    "## Testing the Model"
   ]
  },
  {
   "cell_type": "code",
   "execution_count": 10,
   "id": "aad9d917",
   "metadata": {},
   "outputs": [
    {
     "name": "stdout",
     "output_type": "stream",
     "text": [
      "313/313 [==============================] - 1s 4ms/step - loss: 0.6047 - accuracy: 0.7982\n",
      "Model loss: 0.6047 | Model accuracy: 0.7982\n"
     ]
    }
   ],
   "source": [
    "loss, accuracy = model.evaluate(X_test_data, y_test_data)\n",
    "print(f\"Model loss: {loss:.4f} | Model accuracy: {accuracy:.4f}\")"
   ]
  },
  {
   "cell_type": "markdown",
   "id": "4eef9b2c-e15c-4e9b-ac76-5c72b62ef8c7",
   "metadata": {},
   "source": [
    "### Graph\n",
    "Nu we de accuracy en loss hebben bepaald kunnen we dit het beste in een grafiek weergeven door de accuracy en de nauwkeurigheid van de actuele waardes van de output naast elkaar te leggen."
   ]
  },
  {
   "cell_type": "code",
   "execution_count": 11,
   "id": "a6aae5b6-1425-4a94-8655-2a8abbb5d3ef",
   "metadata": {},
   "outputs": [
    {
     "name": "stdout",
     "output_type": "stream",
     "text": [
      "313/313 - 1s - loss: 0.6047 - accuracy: 0.7982\n"
     ]
    },
    {
     "data": {
      "image/png": "[encoded data removed]",
      "text/plain": [
       "<Figure size 432x288 with 1 Axes>"
      ]
     },
     "metadata": {
      "needs_background": "light"
     },
     "output_type": "display_data"
    }
   ],
   "source": [
    "plt.plot(training.history['accuracy'], label='accuracy')\n",
    "plt.plot(training.history['val_accuracy'], label = 'val_accuracy')\n",
    "plt.xlabel('Epoch')\n",
    "plt.ylabel('Accuracy')\n",
    "plt.ylim([0.5, 1])\n",
    "plt.legend(loc='lower right')\n",
    "\n",
    "test_loss, test_acc = model.evaluate(X_test_data,  y_test_data, verbose=2)"
   ]
  },
  {
   "cell_type": "markdown",
   "id": "972c5dd3-9378-48cc-a43c-861c7033c0d0",
   "metadata": {},
   "source": [
    "## Conclusie\n",
    "Uit de accuracy en loss zien we dat het model een zeer aardig resultaat behaalt. In ongeveer 4/5 gevallen zijn de voorspellingen correct. Het model is ook niet overfit, want we zien dat in de grafiek de lijn van de actuele accuracy op de train set en de validation_accuracy op de testset heel dicht bij elkaar liggen en elkaar zelfs kruisen. Het model zelf is zeer effectief, omdat het model (desondanks de hoeveelheid layers) maar ongeveer 2 minuten nodig heeft om volledig te trainen (7 epochs). Kortom, het model werkt goed en is effectief. "
   ]
  }
 ],
 "metadata": {
  "kernelspec": {
   "display_name": "Python 3 (ipykernel)",
   "language": "python",
   "name": "python3"
  },
  "language_info": {
   "codemirror_mode": {
    "name": "ipython",
    "version": 3
   },
   "file_extension": ".py",
   "mimetype": "text/x-python",
   "name": "python",
   "nbconvert_exporter": "python",
   "pygments_lexer": "ipython3",
   "version": "3.9.7"
  }
 },
 "nbformat": 4,
 "nbformat_minor": 5
}
