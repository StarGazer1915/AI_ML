{
 "cells": [
  {
   "cell_type": "markdown",
   "id": "721db250",
   "metadata": {},
   "source": [
    "# Machine Learning - Practicum 5\n",
    "<b>Student:</b> Justin Klein<br>\n",
    "<b>Nummer:</b> 1707815"
   ]
  },
  {
   "cell_type": "code",
   "execution_count": 1,
   "id": "aef94ead",
   "metadata": {},
   "outputs": [],
   "source": [
    "import ssl\n",
    "import tensorflow as tf\n",
    "import tensorflow.keras.datasets.cifar10 as cifar\n",
    "from tensorflow.keras.preprocessing.image import ImageDataGenerator\n",
    "from tensorflow.keras.models import Sequential\n",
    "from tensorflow.keras.layers import Dense, Dropout, Activation\n",
    "from tensorflow.keras.layers import Conv2D, MaxPooling2D, ZeroPadding2D, GlobalAveragePooling2D, Flatten\n",
    "from tensorflow.keras.layers import BatchNormalization\n",
    "from tensorflow.keras import utils\n",
    "\n",
    "from sklearn.model_selection import train_test_split\n",
    "from sklearn.metrics import accuracy_score"
   ]
  },
  {
   "cell_type": "markdown",
   "id": "79c96225",
   "metadata": {},
   "source": [
    "## Data Analysis and Preparation\n",
    "Eerst laden we de cifar10 data in en verdelen we de data die gebruikt wordt voor het trainen en testen in hun bijbehorende variabelen."
   ]
  },
  {
   "cell_type": "code",
   "execution_count": 2,
   "id": "a014bdd7",
   "metadata": {
    "scrolled": true
   },
   "outputs": [],
   "source": [
    "ssl._create_default_https_context = ssl._create_unverified_context\n",
    "data = cifar.load_data()"
   ]
  },
  {
   "cell_type": "code",
   "execution_count": 3,
   "id": "db739f99",
   "metadata": {
    "scrolled": true
   },
   "outputs": [
    {
     "name": "stdout",
     "output_type": "stream",
     "text": [
      "Length of train_data feature records: 50000, and target records: 50000\n",
      "Length of test_data feature records: 10000, and target records: 10000\n"
     ]
    }
   ],
   "source": [
    "train_data = data[0]\n",
    "test_data = data[1]\n",
    "\n",
    "print(f\"Length of train_data feature records: {len(train_data[0])}, and target records: {len(train_data[1])}\")\n",
    "print(f\"Length of test_data feature records: {len(test_data[0])}, and target records: {len(test_data[1])}\")"
   ]
  },
  {
   "cell_type": "markdown",
   "id": "94a23aa2",
   "metadata": {},
   "source": [
    "Nu verdelen we de features en targets in nieuwe variabelen zodat we het kunnen gebruiken in een CNN. Voor de targets gebruiken we one-hot encoding."
   ]
  },
  {
   "cell_type": "code",
   "execution_count": 4,
   "id": "00e0434e",
   "metadata": {},
   "outputs": [],
   "source": [
    "X_train_data = train_data[0]\n",
    "X_test_data = test_data[0]\n",
    "\n",
    "y_train_data = utils.to_categorical(train_data[1], 10)\n",
    "y_test_data = utils.to_categorical(test_data[1], 10)"
   ]
  },
  {
   "cell_type": "markdown",
   "id": "e707ac3d",
   "metadata": {},
   "source": [
    "Nu zien we dat de "
   ]
  },
  {
   "cell_type": "code",
   "execution_count": 5,
   "id": "bf5cff25",
   "metadata": {
    "scrolled": true
   },
   "outputs": [
    {
     "name": "stdout",
     "output_type": "stream",
     "text": [
      "Size of a picture in X_train is: 32x32\n",
      "Size of a picture in X_test is: 32x32\n"
     ]
    }
   ],
   "source": [
    "print(f\"Size of a picture in X_train is: {len(X_train_data[0])}x{len(X_train_data[0][0])}\")\n",
    "print(f\"Size of a picture in X_test is: {len(X_test_data[0])}x{len(X_test_data[0][0])}\")"
   ]
  },
  {
   "cell_type": "markdown",
   "id": "62138891",
   "metadata": {},
   "source": [
    "## Modelling"
   ]
  },
  {
   "cell_type": "code",
   "execution_count": 6,
   "id": "da22bb13",
   "metadata": {},
   "outputs": [],
   "source": [
    "model = Sequential()\n",
    "\n",
    "# Convolution Layers + Pools\n",
    "model.add(Conv2D(filters=16, kernel_size=(3, 3), input_shape=(32,32,3)))\n",
    "model.add(Activation('relu'))\n",
    "model.add(MaxPooling2D(pool_size=(2,2)))\n",
    "\n",
    "model.add(Conv2D(filters=64, kernel_size=(3, 3)))\n",
    "model.add(Activation('relu'))\n",
    "model.add(MaxPooling2D(pool_size=(2,2)))\n",
    "\n",
    "# Convolution Layer + Flattening\n",
    "model.add(Conv2D(filters=64, kernel_size=(3, 3)))\n",
    "model.add(Activation('relu'))\n",
    "\n",
    "model.add(Flatten())\n",
    "\n",
    "# FC Layers\n",
    "model.add(Dense(64))\n",
    "model.add(Activation('relu'))\n",
    "\n",
    "model.add(Dense(32))\n",
    "model.add(Activation('relu'))\n",
    "\n",
    "model.add(Dense(10))\n",
    "model.add(Activation('softmax'))\n"
   ]
  },
  {
   "cell_type": "code",
   "execution_count": 7,
   "id": "f57ead19",
   "metadata": {},
   "outputs": [
    {
     "name": "stdout",
     "output_type": "stream",
     "text": [
      "Model: \"sequential\"\n",
      "_________________________________________________________________\n",
      " Layer (type)                Output Shape              Param #   \n",
      "=================================================================\n",
      " conv2d (Conv2D)             (None, 30, 30, 16)        448       \n",
      "                                                                 \n",
      " activation (Activation)     (None, 30, 30, 16)        0         \n",
      "                                                                 \n",
      " max_pooling2d (MaxPooling2D  (None, 15, 15, 16)       0         \n",
      " )                                                               \n",
      "                                                                 \n",
      " conv2d_1 (Conv2D)           (None, 13, 13, 64)        9280      \n",
      "                                                                 \n",
      " activation_1 (Activation)   (None, 13, 13, 64)        0         \n",
      "                                                                 \n",
      " max_pooling2d_1 (MaxPooling  (None, 6, 6, 64)         0         \n",
      " 2D)                                                             \n",
      "                                                                 \n",
      " conv2d_2 (Conv2D)           (None, 4, 4, 64)          36928     \n",
      "                                                                 \n",
      " activation_2 (Activation)   (None, 4, 4, 64)          0         \n",
      "                                                                 \n",
      " flatten (Flatten)           (None, 1024)              0         \n",
      "                                                                 \n",
      " dense (Dense)               (None, 64)                65600     \n",
      "                                                                 \n",
      " activation_3 (Activation)   (None, 64)                0         \n",
      "                                                                 \n",
      " dense_1 (Dense)             (None, 32)                2080      \n",
      "                                                                 \n",
      " activation_4 (Activation)   (None, 32)                0         \n",
      "                                                                 \n",
      " dense_2 (Dense)             (None, 10)                330       \n",
      "                                                                 \n",
      " activation_5 (Activation)   (None, 10)                0         \n",
      "                                                                 \n",
      "=================================================================\n",
      "Total params: 114,666\n",
      "Trainable params: 114,666\n",
      "Non-trainable params: 0\n",
      "_________________________________________________________________\n"
     ]
    }
   ],
   "source": [
    "model.summary()"
   ]
  },
  {
   "cell_type": "code",
   "execution_count": 8,
   "id": "3e4b48ea",
   "metadata": {},
   "outputs": [],
   "source": [
    "model.compile(loss='categorical_crossentropy', optimizer='adam', metrics=['accuracy'])"
   ]
  },
  {
   "cell_type": "markdown",
   "id": "58225b31",
   "metadata": {},
   "source": [
    "## Training the Model"
   ]
  },
  {
   "cell_type": "code",
   "execution_count": 9,
   "id": "77132205",
   "metadata": {
    "scrolled": true
   },
   "outputs": [
    {
     "name": "stdout",
     "output_type": "stream",
     "text": [
      "Epoch 1/40\n",
      "391/391 [==============================] - 15s 38ms/step - loss: 2.0543 - accuracy: 0.2728\n",
      "Epoch 2/40\n",
      "391/391 [==============================] - 15s 40ms/step - loss: 1.4343 - accuracy: 0.4712\n",
      "Epoch 3/40\n",
      "391/391 [==============================] - 15s 39ms/step - loss: 1.2538 - accuracy: 0.5463\n",
      "Epoch 4/40\n",
      "391/391 [==============================] - 16s 40ms/step - loss: 1.1420 - accuracy: 0.5948\n",
      "Epoch 5/40\n",
      "391/391 [==============================] - 15s 40ms/step - loss: 1.0619 - accuracy: 0.6254\n",
      "Epoch 6/40\n",
      "391/391 [==============================] - 16s 40ms/step - loss: 0.9769 - accuracy: 0.6559\n",
      "Epoch 7/40\n",
      "391/391 [==============================] - 15s 39ms/step - loss: 0.9182 - accuracy: 0.6778\n",
      "Epoch 8/40\n",
      "391/391 [==============================] - 15s 38ms/step - loss: 0.8601 - accuracy: 0.6977\n",
      "Epoch 9/40\n",
      "391/391 [==============================] - 15s 38ms/step - loss: 0.8148 - accuracy: 0.7126\n",
      "Epoch 10/40\n",
      "391/391 [==============================] - 15s 38ms/step - loss: 0.7616 - accuracy: 0.7340\n",
      "Epoch 11/40\n",
      "391/391 [==============================] - 15s 38ms/step - loss: 0.7160 - accuracy: 0.7486\n",
      "Epoch 12/40\n",
      "391/391 [==============================] - 15s 39ms/step - loss: 0.6752 - accuracy: 0.7622\n",
      "Epoch 13/40\n",
      "391/391 [==============================] - 15s 38ms/step - loss: 0.6378 - accuracy: 0.7760\n",
      "Epoch 14/40\n",
      "391/391 [==============================] - 15s 39ms/step - loss: 0.5989 - accuracy: 0.7891\n",
      "Epoch 15/40\n",
      "391/391 [==============================] - 15s 39ms/step - loss: 0.5764 - accuracy: 0.7979\n",
      "Epoch 16/40\n",
      "391/391 [==============================] - 15s 40ms/step - loss: 0.5383 - accuracy: 0.8106\n",
      "Epoch 17/40\n",
      "391/391 [==============================] - 15s 38ms/step - loss: 0.5111 - accuracy: 0.8195\n",
      "Epoch 18/40\n",
      "391/391 [==============================] - 15s 38ms/step - loss: 0.4751 - accuracy: 0.8317\n",
      "Epoch 19/40\n",
      "391/391 [==============================] - 15s 38ms/step - loss: 0.4446 - accuracy: 0.8427\n",
      "Epoch 20/40\n",
      "391/391 [==============================] - 15s 39ms/step - loss: 0.4137 - accuracy: 0.8539\n",
      "Epoch 21/40\n",
      "391/391 [==============================] - 15s 39ms/step - loss: 0.3989 - accuracy: 0.8588\n",
      "Epoch 22/40\n",
      "391/391 [==============================] - 15s 39ms/step - loss: 0.3721 - accuracy: 0.8683\n",
      "Epoch 23/40\n",
      "391/391 [==============================] - 15s 39ms/step - loss: 0.3521 - accuracy: 0.8755\n",
      "Epoch 24/40\n",
      "391/391 [==============================] - 15s 38ms/step - loss: 0.3342 - accuracy: 0.8819\n",
      "Epoch 25/40\n",
      "391/391 [==============================] - 15s 39ms/step - loss: 0.3237 - accuracy: 0.8845\n",
      "Epoch 26/40\n",
      "391/391 [==============================] - 15s 38ms/step - loss: 0.3001 - accuracy: 0.8944\n",
      "Epoch 27/40\n",
      "391/391 [==============================] - 15s 38ms/step - loss: 0.2899 - accuracy: 0.8954\n",
      "Epoch 28/40\n",
      "391/391 [==============================] - 16s 40ms/step - loss: 0.2751 - accuracy: 0.9026\n",
      "Epoch 29/40\n",
      "391/391 [==============================] - 15s 38ms/step - loss: 0.2640 - accuracy: 0.9048\n",
      "Epoch 30/40\n",
      "391/391 [==============================] - 14s 37ms/step - loss: 0.2449 - accuracy: 0.9133\n",
      "Epoch 31/40\n",
      "391/391 [==============================] - 17s 43ms/step - loss: 0.2344 - accuracy: 0.9175\n",
      "Epoch 32/40\n",
      "391/391 [==============================] - 17s 43ms/step - loss: 0.2420 - accuracy: 0.9149\n",
      "Epoch 33/40\n",
      "391/391 [==============================] - 15s 39ms/step - loss: 0.2399 - accuracy: 0.9167\n",
      "Epoch 34/40\n",
      "391/391 [==============================] - 15s 37ms/step - loss: 0.2068 - accuracy: 0.9276\n",
      "Epoch 35/40\n",
      "391/391 [==============================] - 14s 36ms/step - loss: 0.2237 - accuracy: 0.9201\n",
      "Epoch 36/40\n",
      "391/391 [==============================] - 15s 37ms/step - loss: 0.1974 - accuracy: 0.9314\n",
      "Epoch 37/40\n",
      "391/391 [==============================] - 14s 36ms/step - loss: 0.1950 - accuracy: 0.9313\n",
      "Epoch 38/40\n",
      "391/391 [==============================] - 14s 36ms/step - loss: 0.1815 - accuracy: 0.9363\n",
      "Epoch 39/40\n",
      "391/391 [==============================] - 14s 36ms/step - loss: 0.1765 - accuracy: 0.9379\n",
      "Epoch 40/40\n",
      "391/391 [==============================] - 14s 36ms/step - loss: 0.1906 - accuracy: 0.9336\n"
     ]
    },
    {
     "data": {
      "text/plain": [
       "<keras.callbacks.History at 0x2615586dba0>"
      ]
     },
     "execution_count": 9,
     "metadata": {},
     "output_type": "execute_result"
    }
   ],
   "source": [
    "model.fit(X_train_data, y_train_data, batch_size=128, epochs=50, verbose=1)"
   ]
  },
  {
   "cell_type": "code",
   "execution_count": null,
   "id": "e04fa440",
   "metadata": {},
   "outputs": [],
   "source": []
  }
 ],
 "metadata": {
  "kernelspec": {
   "display_name": "Python 3",
   "language": "python",
   "name": "python3"
  },
  "language_info": {
   "codemirror_mode": {
    "name": "ipython",
    "version": 3
   },
   "file_extension": ".py",
   "mimetype": "text/x-python",
   "name": "python",
   "nbconvert_exporter": "python",
   "pygments_lexer": "ipython3",
   "version": "3.8.8"
  }
 },
 "nbformat": 4,
 "nbformat_minor": 5
}
