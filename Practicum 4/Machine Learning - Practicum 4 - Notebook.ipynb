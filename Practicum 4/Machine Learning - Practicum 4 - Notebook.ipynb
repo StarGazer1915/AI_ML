{
 "cells": [
  {
   "cell_type": "markdown",
   "id": "d15cd3b3",
   "metadata": {},
   "source": [
    "# Machine Learning - Practicum 4\n",
    "<b>Student:</b> Justin Klein<br>\n",
    "<b>Nummer:</b> 1707815"
   ]
  },
  {
   "cell_type": "code",
   "execution_count": 1,
   "id": "c616176a",
   "metadata": {},
   "outputs": [],
   "source": [
    "from neuron import Neuron, NeuronLayer, NeuronNetwork"
   ]
  },
  {
   "cell_type": "code",
   "execution_count": 2,
   "id": "b17ad1f4",
   "metadata": {},
   "outputs": [],
   "source": [
    "def test_neuron(n, inputs, expected):\n",
    "    \"\"\"\n",
    "    This function tests the neuron by comparing the output and expected values.\n",
    "    The print statements and returned output from the 'execute_batch' method will show\n",
    "    if the outputs are what is expected from the sigmoid neuron.\n",
    "    @param n: neuron object\n",
    "    @param inputs: list\n",
    "    @param expected: list\n",
    "    @return: list\n",
    "    \"\"\"\n",
    "    print(f\"\\n{n}\")\n",
    "    return n.run(inputs, expected)"
   ]
  },
  {
   "cell_type": "code",
   "execution_count": 3,
   "id": "2502407e",
   "metadata": {},
   "outputs": [],
   "source": [
    "# Defining all possible inputs for testing.\n",
    "pos_1x = [[0], [1]]\n",
    "pos_2x = [[0, 0], [1, 0], [0, 1], [1, 1]]\n",
    "pos_3x = [[1, 1, 1], [0, 1, 1], [1, 1, 0], [0, 0, 1], [0, 1, 0], [1, 0, 0], [1, 0, 1], [0, 0, 0]]"
   ]
  },
  {
   "cell_type": "markdown",
   "id": "27d8baeb",
   "metadata": {},
   "source": [
    "## Neural Network"
   ]
  },
  {
   "cell_type": "code",
   "execution_count": 4,
   "id": "0ddebbbf",
   "metadata": {},
   "outputs": [],
   "source": [
    "n1 = Neuron(\"AND\", [-0.5, 0.5], 1.5)\n",
    "n2 = Neuron(\"OR\", [0.1, 0.1], -1)\n",
    "n3 = Neuron(\"NAND\", [-1, -1.5], 2)\n",
    "n4 = Neuron(\"PASSTROUGH\", [-0.5, -1, 5], -1.5)\n",
    "n5 = Neuron(\"HA-AND\", [1, 0, 0], -1)"
   ]
  },
  {
   "cell_type": "code",
   "execution_count": 5,
   "id": "71fa6814",
   "metadata": {},
   "outputs": [],
   "source": [
    "nLayer1_1 = NeuronLayer('NAND, OR, AND', [n3, n2, n1])\n",
    "nLayer1_2 = NeuronLayer('HA-AND, PASSTROUGH', [n5, n4])\n",
    "nNetwork1 = NeuronNetwork('HALF ADDER', [nLayer1_1, nLayer1_2])"
   ]
  },
  {
   "cell_type": "code",
   "execution_count": 6,
   "id": "a9e89e55",
   "metadata": {},
   "outputs": [],
   "source": [
    "def test_network(net, lr, inputs, expected, num_epoch):\n",
    "    \"\"\"\n",
    "    Mostly same as the test_perceptor() function but for a network.\n",
    "    The function also prints the layers of the network to visualize it's structure.\n",
    "    @param net: network object\n",
    "    @param inputs: list\n",
    "    @param expected: list\n",
    "    @return: list\n",
    "    \"\"\"\n",
    "    print(f\"\\n{net}\")\n",
    "    for layer in net.get_layers():\n",
    "        print(layer)\n",
    "    return net.train(lr, inputs, expected, num_epoch)"
   ]
  },
  {
   "cell_type": "code",
   "execution_count": 7,
   "id": "312dce66",
   "metadata": {},
   "outputs": [
    {
     "name": "stdout",
     "output_type": "stream",
     "text": [
      "\n",
      "Neuron Network | Type: 'HALF ADDER' | Amount of Layers: '2'\n",
      "Neuron Layer | Amount of Neurons: '3' | Neuron types: 'NAND, OR, AND'\n",
      "Neuron Layer | Amount of Neurons: '2' | Neuron types: 'HA-AND, PASSTROUGH'\n",
      "[HALF ADDER] | Input: [1, 1] | Output: [0.3492223217852996, 0.8898369328490892] | Expected: [0, 1]\n",
      "\n",
      "WEIGHTS = [1, 0, 0] | PREV_INPUTS = [0.3775406687981454, 0.31002551887238755, 0.8175744761936437]\n",
      "NEW_WEIGHTS = [0.9700359591993649, -0.024605606930513346, -0.06488793655054455] | NEW_BIAS = -1.0793663922247687\n",
      "WEIGHTS = [-0.5, -1, 5] | PREV_INPUTS = [0.3775406687981454, 0.31002551887238755, 0.8175744761936437]\n",
      "NEW_WEIGHTS = [-0.495922948417924, -0.996652042715752, 5.008828964895997] | NEW_BIAS = -1.4892010267528137\n"
     ]
    }
   ],
   "source": [
    "test_network(nNetwork1, 1, [[1, 1]], [[0, 1]], 1)"
   ]
  },
  {
   "cell_type": "code",
   "execution_count": 8,
   "id": "1d2537f5",
   "metadata": {},
   "outputs": [
    {
     "name": "stdout",
     "output_type": "stream",
     "text": [
      "Neuron | Type: 'HA-AND' | Weights: '[1, 0, 0]' | Bias: '-1' | Error: '0.07936639222476871'\n"
     ]
    }
   ],
   "source": [
    "print(nNetwork1.nLayers[1].neurons[0])"
   ]
  },
  {
   "cell_type": "code",
   "execution_count": null,
   "id": "5a249e86",
   "metadata": {},
   "outputs": [],
   "source": []
  }
 ],
 "metadata": {
  "kernelspec": {
   "display_name": "Python 3",
   "language": "python",
   "name": "python3"
  },
  "language_info": {
   "codemirror_mode": {
    "name": "ipython",
    "version": 3
   },
   "file_extension": ".py",
   "mimetype": "text/x-python",
   "name": "python",
   "nbconvert_exporter": "python",
   "pygments_lexer": "ipython3",
   "version": "3.8.8"
  }
 },
 "nbformat": 4,
 "nbformat_minor": 5
}
