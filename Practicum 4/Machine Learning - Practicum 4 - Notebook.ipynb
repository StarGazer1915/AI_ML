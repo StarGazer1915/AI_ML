{
 "cells": [
  {
   "cell_type": "markdown",
   "id": "d15cd3b3",
   "metadata": {},
   "source": [
    "# Machine Learning - Practicum 4\n",
    "<b>Student:</b> Justin Klein<br>\n",
    "<b>Nummer:</b> 1707815"
   ]
  },
  {
   "cell_type": "code",
   "execution_count": 1,
   "id": "c616176a",
   "metadata": {},
   "outputs": [],
   "source": [
    "from neuron import Neuron, NeuronLayer, NeuronNetwork"
   ]
  },
  {
   "cell_type": "code",
   "execution_count": 2,
   "id": "e4ff6c28",
   "metadata": {},
   "outputs": [],
   "source": [
    "def test_neuron(n, inputs, expected):\n",
    "    \"\"\"\n",
    "    This function tests the neuron by comparing the output and expected values.\n",
    "    The print statements and returned output from the 'execute_batch' method will show\n",
    "    if the outputs are what is expected from the sigmoid neuron.\n",
    "    @param n: neuron object\n",
    "    @param inputs: list\n",
    "    @param expected: list\n",
    "    @return: list\n",
    "    \"\"\"\n",
    "    print(f\"\\n{n}\")\n",
    "    return n.execute_batch(inputs, expected)"
   ]
  },
  {
   "cell_type": "code",
   "execution_count": 3,
   "id": "3dbb34e1",
   "metadata": {},
   "outputs": [],
   "source": [
    "# Defining all possible inputs for testing.\n",
    "pos_1x = [[0], [1]]\n",
    "pos_2x = [[0, 0], [1, 0], [0, 1], [1, 1]]\n",
    "pos_3x = [[1, 1, 1], [0, 1, 1], [1, 1, 0], [0, 0, 1], [0, 1, 0], [1, 0, 0], [1, 0, 1], [0, 0, 0]]"
   ]
  },
  {
   "cell_type": "markdown",
   "id": "fbe1652a",
   "metadata": {},
   "source": [
    "## (Test) AND Neuron"
   ]
  },
  {
   "cell_type": "code",
   "execution_count": 4,
   "id": "44d49a74",
   "metadata": {},
   "outputs": [],
   "source": [
    "n_test1 = Neuron(\"AND\", [-0.5, 0.5], 1, 1.5)"
   ]
  },
  {
   "cell_type": "code",
   "execution_count": 5,
   "id": "84a055d6",
   "metadata": {},
   "outputs": [
    {
     "name": "stdout",
     "output_type": "stream",
     "text": [
      "\n",
      "Neuron | Type: 'AND' | Weights: '[-0.5, 0.5]' | Bias: '1.5'\n",
      "[AND]| Input: [0, 0] | Output: 0.8175744761936437 | Expected: 0 | Error: 0.12193833242754278\n",
      "[AND]| Input: [1, 0] | Output: 0.7310585786300049 | Expected: 0 | Error: 0.14373484045721513\n",
      "[AND]| Input: [0, 1] | Output: 0.8807970779778823 | Expected: 0 | Error: 0.09247804322982986\n",
      "[AND]| Input: [1, 1] | Output: 0.8175744761936437 | Expected: 1 | Error: -0.027208119642790095\n"
     ]
    },
    {
     "data": {
      "text/plain": [
       "[0.8175744761936437,\n",
       " 0.7310585786300049,\n",
       " 0.8807970779778823,\n",
       " 0.8175744761936437]"
      ]
     },
     "execution_count": 5,
     "metadata": {},
     "output_type": "execute_result"
    }
   ],
   "source": [
    "test_neuron(n_test1, pos_2x, [0, 0, 0, 1])"
   ]
  },
  {
   "cell_type": "markdown",
   "id": "1a4f3842",
   "metadata": {},
   "source": [
    "## Neural Network"
   ]
  },
  {
   "cell_type": "code",
   "execution_count": 6,
   "id": "d9ece5e7",
   "metadata": {},
   "outputs": [],
   "source": [
    "n1 = Neuron(\"AND\", [-0.5, 0.5], 1, 1.5)\n",
    "n2 = Neuron(\"OR\", [0.1, 0.1], 1, -1)\n",
    "n3 = Neuron(\"NAND\", [-1, -1.5], 1, 2)\n",
    "n4 = Neuron(\"PASSTROUGH\", [-0.5, -1, 5], 1, -1.5)\n",
    "n5 = Neuron(\"HA-AND\", [1, 1, 0], 1, -1)"
   ]
  },
  {
   "cell_type": "code",
   "execution_count": 7,
   "id": "edcb70c0",
   "metadata": {},
   "outputs": [],
   "source": [
    "nLayer1_1 = NeuronLayer('NAND, OR, AND', [n3, n2, n1])\n",
    "nLayer1_2 = NeuronLayer('HA-AND, PASSTROUGH', [n5, n4])\n",
    "nNetwork1 = NeuronNetwork('HALF ADDER', [nLayer1_1, nLayer1_2])"
   ]
  },
  {
   "cell_type": "code",
   "execution_count": 8,
   "id": "162a7059",
   "metadata": {},
   "outputs": [],
   "source": [
    "def test_network(net, inputs, expected):\n",
    "    \"\"\"\n",
    "    Mostly same as the test_perceptor() function but for a network.\n",
    "    The function also prints the layers of the network to visualize it's structure.\n",
    "    @param net: network object\n",
    "    @param inputs: list\n",
    "    @param expected: list\n",
    "    @return: list\n",
    "    \"\"\"\n",
    "    print(f\"\\n{net}\")\n",
    "    for layer in net.get_layers():\n",
    "        print(layer)\n",
    "    return net.feed_forward(inputs, expected)"
   ]
  },
  {
   "cell_type": "code",
   "execution_count": 9,
   "id": "6084605a",
   "metadata": {},
   "outputs": [
    {
     "name": "stdout",
     "output_type": "stream",
     "text": [
      "\n",
      "Neuron Network | Type: 'HALF ADDER' | Amount of Layers: '2'\n",
      "Neuron Layer | Amount of Neurons: '3' | Neuron types: 'NAND, OR, AND'\n",
      "Neuron Layer | Amount of Neurons: '2' | Neuron types: 'HA-AND, PASSTROUGH'\n",
      "[HALF ADDER] | Input: [1, 1] | Output: [0.4225207843225017, 0.8898369328490892] | Expected: [0, 1]\n"
     ]
    }
   ],
   "source": [
    "test_network(nNetwork1, [[1, 1]], [[0, 1]])"
   ]
  },
  {
   "cell_type": "code",
   "execution_count": null,
   "id": "28029184",
   "metadata": {},
   "outputs": [],
   "source": []
  }
 ],
 "metadata": {
  "kernelspec": {
   "display_name": "Python 3",
   "language": "python",
   "name": "python3"
  },
  "language_info": {
   "codemirror_mode": {
    "name": "ipython",
    "version": 3
   },
   "file_extension": ".py",
   "mimetype": "text/x-python",
   "name": "python",
   "nbconvert_exporter": "python",
   "pygments_lexer": "ipython3",
   "version": "3.8.8"
  }
 },
 "nbformat": 4,
 "nbformat_minor": 5
}
