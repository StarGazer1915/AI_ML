{
 "cells": [
  {
   "cell_type": "markdown",
   "id": "d15cd3b3",
   "metadata": {},
   "source": [
    "# Machine Learning - Practicum 4\n",
    "<b>Student:</b> Justin Klein<br>\n",
    "<b>Nummer:</b> 1707815"
   ]
  },
  {
   "cell_type": "code",
   "execution_count": 1,
   "id": "c616176a",
   "metadata": {},
   "outputs": [],
   "source": [
    "from neuron import Neuron, NeuronLayer, NeuronNetwork\n",
    "import random\n",
    "import numpy as np\n",
    "from sklearn.model_selection import train_test_split\n",
    "from sklearn.datasets import load_iris"
   ]
  },
  {
   "cell_type": "code",
   "execution_count": 2,
   "id": "cfd2a6bb",
   "metadata": {},
   "outputs": [],
   "source": [
    "# Defining all possible inputs for testing.\n",
    "pos_2x = [[1, 1], [1, 0], [0, 1], [0, 0]]"
   ]
  },
  {
   "cell_type": "markdown",
   "id": "33ec715b",
   "metadata": {},
   "source": [
    "# Neural Networks\n",
    "Hier maak, train en test ik de gevraagde netwerken. De functie hieronder zal gebruikt worden om de netwerken te draaien en het resultaat te printen."
   ]
  },
  {
   "cell_type": "code",
   "execution_count": 3,
   "id": "bcda8eea",
   "metadata": {},
   "outputs": [],
   "source": [
    "def run_network(net, lr, inputs, expected, num_epoch):\n",
    "    \"\"\"\n",
    "    Mostly same as the test_perceptor() function but for a network.\n",
    "    The function also prints the layers of the network to visualize it's structure.\n",
    "    @param net: network object\n",
    "    @param inputs: list\n",
    "    @param expected: list\n",
    "    @return: list\n",
    "    \"\"\"\n",
    "    print(f\"\\n{net}\")\n",
    "    for layer in net.get_layers():\n",
    "        print(layer)\n",
    "    return net.train(lr, inputs, expected, num_epoch)"
   ]
  },
  {
   "cell_type": "markdown",
   "id": "ef754b32",
   "metadata": {},
   "source": [
    "### AND Neural Network\n",
    "Allereerst het \"AND Network\" welke nog vrij eenvoudig is. Als we dit eenvoudige netwerk met maar één laag runnen zien we dat de \"AND\" neuron zich correct aanpast en de juiste weights leert. Dit is te zien aan de output en de verwachtte waarden. We gebruiken de initializatie weights zoals in het backpropagation werkboek van les 6 is aangegeven."
   ]
  },
  {
   "cell_type": "code",
   "execution_count": 4,
   "id": "71fbb757",
   "metadata": {},
   "outputs": [],
   "source": [
    "n1_1 = Neuron(\"AND\", [-0.5, 0.5], 1.5)"
   ]
  },
  {
   "cell_type": "code",
   "execution_count": 5,
   "id": "2ea923f2",
   "metadata": {},
   "outputs": [],
   "source": [
    "nLayer1_1 = NeuronLayer('AND', [n1_1])\n",
    "nNetwork1 = NeuronNetwork('SIMPLE AND', [nLayer1_1])"
   ]
  },
  {
   "cell_type": "code",
   "execution_count": 6,
   "id": "d5c3ad64",
   "metadata": {
    "scrolled": false
   },
   "outputs": [
    {
     "name": "stdout",
     "output_type": "stream",
     "text": [
      "\n",
      "Neuron Network | Type: 'SIMPLE AND' | Amount of Layers: '1'\n",
      "Neuron Layer | Amount of Neurons: '1' | Neuron types: 'AND'\n",
      "\n",
      "WORKING...\n",
      "\n",
      "| =============== EPOCH 2000 =============== | MSE: 0.00820065657945263\n",
      "Inputs: [1, 1] | Output: [0.8339605720099628] | Expected: [1]\n",
      "Inputs: [1, 0] | Output: [0.13783146036699778] | Expected: [0]\n",
      "Inputs: [0, 1] | Output: [0.1378891834610354] | Expected: [0]\n",
      "Inputs: [0, 0] | Output: [0.005022211257197239] | Expected: [0]\n"
     ]
    }
   ],
   "source": [
    "run_network(nNetwork1, 0.1, pos_2x, [[1], [0], [0], [0]], 2000)"
   ]
  },
  {
   "cell_type": "markdown",
   "id": "4e69ca12",
   "metadata": {},
   "source": [
    "Na 2000 epochs zien we dat het netwerk zich goed heeft aangepast aan de verwachtte waarden. De MSE is ook zeer laag wat we graag willen zien. Als we nog veel meer epochs draaien (duizenden meer) zullen we zeker een beter resultaat krijgen, maar na 2000 epochs is de verbetering zo klein dat voor nu 2000 voldoende weergeeft."
   ]
  },
  {
   "cell_type": "markdown",
   "id": "7e660792",
   "metadata": {},
   "source": [
    "### XOR Neural Network\n",
    "Het \"XOR Network\" is een netwerk waar ik bij perceptrons niet het de perfecte weights heb kunnen krijgen (wat ook de bedoeling was!). Nu we een neural network hebben kunnen we dit echter wel oplossen. Als we dit netwerk met de twee lagen runnen zien we dat het netwerk zich correct aanpast en de juiste weights leert. Dit is te zien aan de output en de verwachtte waarden. We gebruiken ook hier de initializatie weights zoals in het backpropagation werkboek van les 6 is aangegeven."
   ]
  },
  {
   "cell_type": "code",
   "execution_count": 21,
   "id": "cf3f9947",
   "metadata": {},
   "outputs": [],
   "source": [
    "n2_1 = Neuron(\"AND\", [0.6, 0.9], 0)\n",
    "n2_2 = Neuron(\"OR\", [0.7, 0.1], 0)\n",
    "n2_3 = Neuron(\"NAND\", [0.2, -0.4], 0)"
   ]
  },
  {
   "cell_type": "code",
   "execution_count": 22,
   "id": "0607077b",
   "metadata": {},
   "outputs": [],
   "source": [
    "nLayer2_1 = NeuronLayer('NAND, OR', [n2_3, n2_2])\n",
    "nLayer2_2 = NeuronLayer('AND', [n2_1])\n",
    "nNetwork2 = NeuronNetwork('XOR', [nLayer2_1, nLayer2_2])"
   ]
  },
  {
   "cell_type": "code",
   "execution_count": 23,
   "id": "9561a61b",
   "metadata": {
    "scrolled": true
   },
   "outputs": [
    {
     "name": "stdout",
     "output_type": "stream",
     "text": [
      "\n",
      "Neuron Network | Type: 'XOR' | Amount of Layers: '2'\n",
      "Neuron Layer | Amount of Neurons: '2' | Neuron types: 'NAND, OR'\n",
      "Neuron Layer | Amount of Neurons: '1' | Neuron types: 'AND'\n",
      "\n",
      "WORKING...\n",
      "\n",
      "| =============== EPOCH 1000 =============== | MSE: 0.009071073348862802\n",
      "Inputs: [1, 1] | Output: [0.11257049737431864] | Expected: [0]\n",
      "Inputs: [1, 0] | Output: [0.9046523879230487] | Expected: [1]\n",
      "Inputs: [0, 1] | Output: [0.820956645465002] | Expected: [1]\n",
      "Inputs: [0, 0] | Output: [0.13692618442021662] | Expected: [0]\n"
     ]
    }
   ],
   "source": [
    "run_network(nNetwork2, 1, pos_2x, [[0], [1], [1], [0]], 1000)"
   ]
  },
  {
   "cell_type": "markdown",
   "id": "404cbe39",
   "metadata": {},
   "source": [
    "Ook hier is de ouput wat we willen zien. Na 1000 epochs zitten de ouput waardes dicht bij de verwachtte waarden. Ook de MSE is laag wat positief is."
   ]
  },
  {
   "cell_type": "markdown",
   "id": "47a399e7",
   "metadata": {},
   "source": [
    "### HALF-ADDER Neural Network"
   ]
  },
  {
   "cell_type": "code",
   "execution_count": 10,
   "id": "9a73edb5",
   "metadata": {},
   "outputs": [],
   "source": [
    "n3_1 = Neuron(\"AND\", [0.4, 0.5], 0)\n",
    "n3_2 = Neuron(\"OR\", [0.2, 0.3], 0)\n",
    "n3_3 = Neuron(\"NAND\", [0, 0.1], 0)\n",
    "n3_4 = Neuron(\"HA-AND\", [0.6, 0.7, 0.8], 0)\n",
    "n3_5 = Neuron(\"PASSTROUGH\", [0.9, 1.0, 1.1], 0)"
   ]
  },
  {
   "cell_type": "code",
   "execution_count": 11,
   "id": "4200c8c7",
   "metadata": {},
   "outputs": [],
   "source": [
    "nLayer3_1 = NeuronLayer('NAND, OR, AND', [n3_3, n3_2, n3_1])\n",
    "nLayer3_2 = NeuronLayer('HA-AND, PASSTROUGH', [n3_4, n3_5])\n",
    "nNetwork3 = NeuronNetwork('HALF ADDER', [nLayer3_1, nLayer3_2])"
   ]
  },
  {
   "cell_type": "code",
   "execution_count": 12,
   "id": "f2e165c0",
   "metadata": {
    "scrolled": true
   },
   "outputs": [],
   "source": [
    "#run_network(nNetwork3, 1, pos_2x, [[0, 1], [1, 0], [1, 0], [0, 0]], 1000)"
   ]
  },
  {
   "cell_type": "markdown",
   "id": "006b233b",
   "metadata": {},
   "source": [
    "## IRIS Dataset"
   ]
  },
  {
   "cell_type": "code",
   "execution_count": 13,
   "id": "00f74ea0",
   "metadata": {},
   "outputs": [],
   "source": [
    "iris = load_iris()"
   ]
  },
  {
   "cell_type": "code",
   "execution_count": 14,
   "id": "98de8ba1",
   "metadata": {},
   "outputs": [
    {
     "name": "stdout",
     "output_type": "stream",
     "text": [
      "[5.1 3.5 1.4 0.2]\n"
     ]
    }
   ],
   "source": [
    "X = iris.data\n",
    "print(X[0])"
   ]
  },
  {
   "cell_type": "markdown",
   "id": "8b949788",
   "metadata": {},
   "source": []
  },
  {
   "cell_type": "code",
   "execution_count": 15,
   "id": "8894c13d",
   "metadata": {
    "scrolled": false
   },
   "outputs": [
    {
     "name": "stdout",
     "output_type": "stream",
     "text": [
      "[0 0 0 0 0 0 0 0 0 0 0 0 0 0 0 0 0 0 0 0 0 0 0 0 0 0 0 0 0 0 0 0 0 0 0 0 0\n",
      " 0 0 0 0 0 0 0 0 0 0 0 0 0 1 1 1 1 1 1 1 1 1 1 1 1 1 1 1 1 1 1 1 1 1 1 1 1\n",
      " 1 1 1 1 1 1 1 1 1 1 1 1 1 1 1 1 1 1 1 1 1 1 1 1 1 1 2 2 2 2 2 2 2 2 2 2 2\n",
      " 2 2 2 2 2 2 2 2 2 2 2 2 2 2 2 2 2 2 2 2 2 2 2 2 2 2 2 2 2 2 2 2 2 2 2 2 2\n",
      " 2 2]\n",
      "[[0], [0], [0], [0], [0], [0], [0], [0], [0], [0], [0], [0], [0], [0], [0], [0], [0], [0], [0], [0], [0], [0], [0], [0], [0], [0], [0], [0], [0], [0], [0], [0], [0], [0], [0], [0], [0], [0], [0], [0], [0], [0], [0], [0], [0], [0], [0], [0], [0], [0], [0.5], [0.5], [0.5], [0.5], [0.5], [0.5], [0.5], [0.5], [0.5], [0.5], [0.5], [0.5], [0.5], [0.5], [0.5], [0.5], [0.5], [0.5], [0.5], [0.5], [0.5], [0.5], [0.5], [0.5], [0.5], [0.5], [0.5], [0.5], [0.5], [0.5], [0.5], [0.5], [0.5], [0.5], [0.5], [0.5], [0.5], [0.5], [0.5], [0.5], [0.5], [0.5], [0.5], [0.5], [0.5], [0.5], [0.5], [0.5], [0.5], [0.5], [1], [1], [1], [1], [1], [1], [1], [1], [1], [1], [1], [1], [1], [1], [1], [1], [1], [1], [1], [1], [1], [1], [1], [1], [1], [1], [1], [1], [1], [1], [1], [1], [1], [1], [1], [1], [1], [1], [1], [1], [1], [1], [1], [1], [1], [1], [1], [1], [1], [1]]\n"
     ]
    }
   ],
   "source": [
    "y = iris.target\n",
    "print(y)\n",
    "\n",
    "new_y = []\n",
    "for i in y:\n",
    "    if i == 0:\n",
    "        new_y.append([0])\n",
    "    elif i == 1:\n",
    "        new_y.append([0.5])\n",
    "    else:\n",
    "        new_y.append([1])\n",
    "\n",
    "y = new_y\n",
    "print(y)"
   ]
  },
  {
   "cell_type": "code",
   "execution_count": 16,
   "id": "3aac0dea",
   "metadata": {},
   "outputs": [],
   "source": [
    "X_train, X_test, y_train, y_test = train_test_split(X, y, test_size=0.20, random_state=12345)"
   ]
  },
  {
   "cell_type": "markdown",
   "id": "70abcdde",
   "metadata": {},
   "source": [
    "Attribute Information: (WEIGHTS)\n",
    "- sepal length in cm\n",
    "- sepal width in cm\n",
    "- petal length in cm\n",
    "- petal width in cm\n",
    "\n",
    "class: (NEURONS)\n",
    "- Iris-Setosa\n",
    "- Iris-Versicolour\n",
    "- Iris-Virginica"
   ]
  },
  {
   "cell_type": "code",
   "execution_count": 17,
   "id": "bed64856",
   "metadata": {},
   "outputs": [],
   "source": [
    "iris_n_1_1 = Neuron(\"Setosa\", [0.1, 0.6, 0.7, 1.2], 0)\n",
    "iris_n_1_2 = Neuron(\"Versicolour\", [0.2, 0.5, 0.8, 1.1], 0)\n",
    "iris_n_1_3 = Neuron(\"Virginica\", [0.3, 0.4, 0.9, 1.0], 0)\n",
    "\n",
    "iris_n_1_4 = Neuron(\"Output\", [0.5, 0.5, 0.5], 0)"
   ]
  },
  {
   "cell_type": "code",
   "execution_count": 18,
   "id": "645a3add",
   "metadata": {},
   "outputs": [],
   "source": [
    "iris_nLayer1 = NeuronLayer('CLASS', [iris_n_1_1, iris_n_1_2, iris_n_1_3])\n",
    "iris_nLayer2 = NeuronLayer('OUTPUT', [iris_n_1_4])\n",
    "iris_nNetwork = NeuronNetwork('IRIS NETWORK', [iris_nLayer1, iris_nLayer2])"
   ]
  },
  {
   "cell_type": "code",
   "execution_count": 19,
   "id": "902fe405",
   "metadata": {
    "scrolled": true
   },
   "outputs": [
    {
     "name": "stdout",
     "output_type": "stream",
     "text": [
      "\n",
      "Neuron Network | Type: 'IRIS NETWORK' | Amount of Layers: '2'\n",
      "Neuron Layer | Amount of Neurons: '3' | Neuron types: 'CLASS'\n",
      "Neuron Layer | Amount of Neurons: '1' | Neuron types: 'OUTPUT'\n",
      "\n",
      "WORKING...\n",
      "\n",
      "| =============== EPOCH 1000 =============== | MSE: 0.002171238022424779\n",
      "Inputs: [5.1 3.8 1.5 0.3] | Output: [0.004087606797944013] | Expected: [0]\n",
      "Inputs: [5.3 3.7 1.5 0.2] | Output: [0.004014773659704386] | Expected: [0]\n",
      "Inputs: [6.3 2.5 5.  1.9] | Output: [0.9923914897898783] | Expected: [1]\n",
      "Inputs: [5.6 2.8 4.9 2. ] | Output: [0.9926832956707923] | Expected: [1]\n",
      "Inputs: [5.  2.  3.5 1. ] | Output: [0.5094844388593486] | Expected: [0.5]\n",
      "Inputs: [7.7 3.8 6.7 2.2] | Output: [0.9926369228143627] | Expected: [1]\n",
      "Inputs: [6.4 3.1 5.5 1.8] | Output: [0.9926039215660329] | Expected: [1]\n",
      "Inputs: [5.8 2.7 4.1 1. ] | Output: [0.5079477772076265] | Expected: [0.5]\n",
      "Inputs: [5.1 3.4 1.5 0.2] | Output: [0.004270657725162537] | Expected: [0]\n",
      "Inputs: [6.4 3.2 4.5 1.5] | Output: [0.5075630747118495] | Expected: [0.5]\n",
      "Inputs: [4.3 3.  1.1 0.1] | Output: [0.004110892972751152] | Expected: [0]\n",
      "Inputs: [5.7 2.6 3.5 1. ] | Output: [0.49904977304186654] | Expected: [0.5]\n",
      "Inputs: [5.  3.  1.6 0.2] | Output: [0.0054523276082353465] | Expected: [0]\n",
      "Inputs: [6.1 3.  4.9 1.8] | Output: [0.98555266460877] | Expected: [1]\n",
      "Inputs: [5.7 2.8 4.1 1.3] | Output: [0.5062007924118659] | Expected: [0.5]\n",
      "Inputs: [6.  2.9 4.5 1.5] | Output: [0.5152621136072423] | Expected: [0.5]\n",
      "Inputs: [4.9 3.1 1.5 0.1] | Output: [0.004502573139793714] | Expected: [0]\n",
      "Inputs: [6.2 2.2 4.5 1.5] | Output: [0.5567457212212297] | Expected: [0.5]\n",
      "Inputs: [6.5 2.8 4.6 1.5] | Output: [0.49269943978100017] | Expected: [0.5]\n",
      "Inputs: [6.9 3.1 4.9 1.5] | Output: [0.4937358510208763] | Expected: [0.5]\n",
      "Inputs: [7.7 3.  6.1 2.3] | Output: [0.9921837375249936] | Expected: [1]\n",
      "Inputs: [4.4 2.9 1.4 0.2] | Output: [0.005118028646002611] | Expected: [0]\n",
      "Inputs: [5.5 2.5 4.  1.3] | Output: [0.4953643019063176] | Expected: [0.5]\n",
      "Inputs: [4.8 3.  1.4 0.3] | Output: [0.004865468801477637] | Expected: [0]\n",
      "Inputs: [6.9 3.1 5.4 2.1] | Output: [0.99074997183669] | Expected: [1]\n",
      "Inputs: [6.3 3.4 5.6 2.4] | Output: [0.9922280069800837] | Expected: [1]\n",
      "Inputs: [5.4 3.4 1.7 0.2] | Output: [0.004470503617099538] | Expected: [0]\n",
      "Inputs: [6.9 3.1 5.1 2.3] | Output: [0.9658602262493046] | Expected: [1]\n",
      "Inputs: [5.  3.5 1.3 0.3] | Output: [0.0039115676601060995] | Expected: [0]\n",
      "Inputs: [6.5 3.  5.2 2. ] | Output: [0.9915068586262356] | Expected: [1]\n",
      "Inputs: [7.2 3.6 6.1 2.5] | Output: [0.9922630950725696] | Expected: [1]\n",
      "Inputs: [6.8 3.2 5.9 2.3] | Output: [0.992265295645335] | Expected: [1]\n",
      "Inputs: [6.7 3.3 5.7 2.1] | Output: [0.9922584458549016] | Expected: [1]\n",
      "Inputs: [5.  2.3 3.3 1. ] | Output: [0.49131154905773916] | Expected: [0.5]\n",
      "Inputs: [7.2 3.2 6.  1.8] | Output: [0.9922235207534542] | Expected: [1]\n",
      "Inputs: [5.7 3.  4.2 1.2] | Output: [0.49756951683052153] | Expected: [0.5]\n",
      "Inputs: [4.9 3.6 1.4 0.1] | Output: [0.0038494107557132777] | Expected: [0]\n",
      "Inputs: [5.  3.3 1.4 0.2] | Output: [0.004121743527195948] | Expected: [0]\n",
      "Inputs: [5.6 3.  4.5 1.5] | Output: [0.6655620839607803] | Expected: [0.5]\n",
      "Inputs: [4.6 3.4 1.4 0.3] | Output: [0.004020282188476077] | Expected: [0]\n",
      "Inputs: [7.7 2.8 6.7 2. ] | Output: [0.9914006524926794] | Expected: [1]\n",
      "Inputs: [6.9 3.2 5.7 2.3] | Output: [0.9913658507306999] | Expected: [1]\n",
      "Inputs: [5.2 4.1 1.5 0.1] | Output: [0.0034382853691905806] | Expected: [0]\n",
      "Inputs: [4.8 3.1 1.6 0.2] | Output: [0.004869778953824294] | Expected: [0]\n",
      "Inputs: [7.9 3.8 6.4 2. ] | Output: [0.9832612583598498] | Expected: [1]\n",
      "Inputs: [5.  3.4 1.6 0.4] | Output: [0.004660375540949978] | Expected: [0]\n",
      "Inputs: [7.1 3.  5.9 2.1] | Output: [0.9913860298495947] | Expected: [1]\n",
      "Inputs: [6.7 3.1 4.7 1.5] | Output: [0.47147898381047515] | Expected: [0.5]\n",
      "Inputs: [5.1 3.8 1.9 0.4] | Output: [0.005083323902395869] | Expected: [0]\n",
      "Inputs: [5.1 3.5 1.4 0.2] | Output: [0.0037128136089283666] | Expected: [0]\n",
      "Inputs: [6.1 2.9 4.7 1.4] | Output: [0.4825731855315296] | Expected: [0.5]\n",
      "Inputs: [6.4 2.8 5.6 2.2] | Output: [0.9917030749986314] | Expected: [1]\n",
      "Inputs: [5.1 3.7 1.5 0.4] | Output: [0.003950672630271158] | Expected: [0]\n",
      "Inputs: [7.4 2.8 6.1 1.9] | Output: [0.9916546774574593] | Expected: [1]\n",
      "Inputs: [6.6 2.9 4.6 1.3] | Output: [0.4799969369235735] | Expected: [0.5]\n",
      "Inputs: [5.1 3.8 1.6 0.2] | Output: [0.003827760640384233] | Expected: [0]\n",
      "Inputs: [4.9 2.4 3.3 1. ] | Output: [0.4779515554102487] | Expected: [0.5]\n",
      "Inputs: [5.8 2.7 3.9 1.2] | Output: [0.4864802066880501] | Expected: [0.5]\n",
      "Inputs: [7.  3.2 4.7 1.4] | Output: [0.49029721250969593] | Expected: [0.5]\n",
      "Inputs: [5.7 3.8 1.7 0.3] | Output: [0.004004575185471055] | Expected: [0]\n",
      "Inputs: [4.5 2.3 1.3 0.3] | Output: [0.007669666786785098] | Expected: [0]\n",
      "Inputs: [6.  2.2 4.  1. ] | Output: [0.49151065805330046] | Expected: [0.5]\n",
      "Inputs: [6.3 2.9 5.6 1.8] | Output: [0.9921409973654421] | Expected: [1]\n",
      "Inputs: [4.6 3.6 1.  0.2] | Output: [0.00365676985164186] | Expected: [0]\n",
      "Inputs: [6.8 2.8 4.8 1.4] | Output: [0.49405521556916226] | Expected: [0.5]\n",
      "Inputs: [6.4 2.9 4.3 1.3] | Output: [0.4944552156622081] | Expected: [0.5]\n",
      "Inputs: [4.9 2.5 4.5 1.7] | Output: [0.9921965358469492] | Expected: [1]\n",
      "Inputs: [5.7 2.9 4.2 1.3] | Output: [0.495730812218526] | Expected: [0.5]\n",
      "Inputs: [5.6 3.  4.1 1.3] | Output: [0.49610575388724676] | Expected: [0.5]\n",
      "Inputs: [4.4 3.  1.3 0.2] | Output: [0.004540003242105137] | Expected: [0]\n",
      "Inputs: [5.2 3.5 1.5 0.2] | Output: [0.004033348757340402] | Expected: [0]\n",
      "Inputs: [5.5 2.4 3.8 1.1] | Output: [0.496354386838916] | Expected: [0.5]\n",
      "Inputs: [6.5 3.  5.5 1.8] | Output: [0.9919840278144065] | Expected: [1]\n",
      "Inputs: [4.8 3.  1.4 0.1] | Output: [0.004385615521115427] | Expected: [0]\n",
      "Inputs: [6.  2.7 5.1 1.6] | Output: [0.9914309140543647] | Expected: [0.5]\n",
      "Inputs: [6.7 3.1 5.6 2.4] | Output: [0.9921540319690852] | Expected: [1]\n",
      "Inputs: [6.7 2.5 5.8 1.8] | Output: [0.9921591790122424] | Expected: [1]\n",
      "Inputs: [5.1 2.5 3.  1.1] | Output: [0.47972126641322793] | Expected: [0.5]\n",
      "Inputs: [6.8 3.  5.5 2.1] | Output: [0.991873438067576] | Expected: [1]\n",
      "Inputs: [6.3 2.5 4.9 1.5] | Output: [0.6994553818213879] | Expected: [0.5]\n",
      "Inputs: [5.5 2.3 4.  1.3] | Output: [0.46770348599922745] | Expected: [0.5]\n",
      "Inputs: [6.7 3.  5.2 2.3] | Output: [0.9563722359961311] | Expected: [1]\n",
      "Inputs: [6.  2.2 5.  1.5] | Output: [0.9863038236231059] | Expected: [1]\n",
      "Inputs: [7.3 2.9 6.3 1.8] | Output: [0.9914068663505664] | Expected: [1]\n",
      "Inputs: [6.3 2.8 5.1 1.5] | Output: [0.5775798069351794] | Expected: [1]\n",
      "Inputs: [6.4 3.2 5.3 2.3] | Output: [0.9937509036913034] | Expected: [1]\n",
      "Inputs: [5.8 4.  1.2 0.2] | Output: [0.004173652258396641] | Expected: [0]\n",
      "Inputs: [6.6 3.  4.4 1.4] | Output: [0.5520191034450227] | Expected: [0.5]\n",
      "Inputs: [5.7 4.4 1.5 0.4] | Output: [0.004147291230622902] | Expected: [0]\n",
      "Inputs: [5.4 3.9 1.7 0.4] | Output: [0.004773563411770606] | Expected: [0]\n",
      "Inputs: [4.6 3.1 1.5 0.2] | Output: [0.005605882867504214] | Expected: [0]\n",
      "Inputs: [6.4 2.7 5.3 1.9] | Output: [0.9934758281455159] | Expected: [1]\n",
      "Inputs: [5.6 2.9 3.6 1.3] | Output: [0.5389475486117062] | Expected: [0.5]\n",
      "Inputs: [5.5 3.5 1.3 0.2] | Output: [0.0041719284385565505] | Expected: [0]\n",
      "Inputs: [6.3 2.3 4.4 1.3] | Output: [0.5359819436452767] | Expected: [0.5]\n",
      "Inputs: [6.  3.  4.8 1.8] | Output: [0.9655718977413184] | Expected: [1]\n",
      "Inputs: [6.2 2.9 4.3 1.3] | Output: [0.5293228003739183] | Expected: [0.5]\n",
      "Inputs: [5.9 3.  4.2 1.5] | Output: [0.5240977430575269] | Expected: [0.5]\n",
      "Inputs: [5.4 3.4 1.5 0.4] | Output: [0.004644810779894046] | Expected: [0]\n",
      "Inputs: [6.7 3.3 5.7 2.5] | Output: [0.9929165312271845] | Expected: [1]\n",
      "Inputs: [5.1 3.3 1.7 0.5] | Output: [0.007008670883600965] | Expected: [0]\n",
      "Inputs: [5.  3.5 1.6 0.6] | Output: [0.005975224375387422] | Expected: [0]\n",
      "Inputs: [5.  3.4 1.5 0.2] | Output: [0.004454672711755219] | Expected: [0]\n",
      "Inputs: [5.5 2.4 3.7 1. ] | Output: [0.5174295878210392] | Expected: [0.5]\n",
      "Inputs: [6.7 3.  5.  1.7] | Output: [0.5457346702285448] | Expected: [0.5]\n",
      "Inputs: [4.8 3.4 1.6 0.2] | Output: [0.004682359221495649] | Expected: [0]\n",
      "Inputs: [5.8 2.8 5.1 2.4] | Output: [0.9925757262339697] | Expected: [1]\n",
      "Inputs: [5.8 2.7 5.1 1.9] | Output: [0.9925730602284527] | Expected: [1]\n",
      "Inputs: [6.1 3.  4.6 1.4] | Output: [0.5101660142936202] | Expected: [0.5]\n",
      "Inputs: [7.6 3.  6.6 2.1] | Output: [0.9925226160159952] | Expected: [1]\n",
      "Inputs: [5.2 2.7 3.9 1.4] | Output: [0.5079838467971725] | Expected: [0.5]\n",
      "Inputs: [5.7 2.5 5.  2. ] | Output: [0.9924787092705916] | Expected: [1]\n",
      "Inputs: [7.7 2.6 6.9 2.3] | Output: [0.9924814276893744] | Expected: [1]\n",
      "Inputs: [4.9 3.  1.4 0.2] | Output: [0.004625279918515663] | Expected: [0]\n",
      "Inputs: [5.9 3.  5.1 1.8] | Output: [0.9923640239904441] | Expected: [1]\n",
      "Inputs: [4.9 3.1 1.5 0.2] | Output: [0.004785522635352063] | Expected: [0]\n",
      "Inputs: [5.8 2.7 5.1 1.9] | Output: [0.9924797148926869] | Expected: [1]\n",
      "Inputs: [6.2 2.8 4.8 1.8] | Output: [0.9069102142242489] | Expected: [1]\n",
      "Inputs: [7.2 3.  5.8 1.6] | Output: [0.9899654978004285] | Expected: [1]\n",
      "Inputs: [4.7 3.2 1.6 0.2] | Output: [0.005246545603768724] | Expected: [0]\n"
     ]
    }
   ],
   "source": [
    "run_network(iris_nNetwork, 1, X_train, y_train, 1000)"
   ]
  },
  {
   "cell_type": "code",
   "execution_count": 20,
   "id": "0bbede87",
   "metadata": {},
   "outputs": [
    {
     "name": "stdout",
     "output_type": "stream",
     "text": [
      "\n",
      "Neuron Network | Type: 'IRIS NETWORK' | Amount of Layers: '2'\n",
      "Neuron Layer | Amount of Neurons: '3' | Neuron types: 'CLASS'\n",
      "Neuron Layer | Amount of Neurons: '1' | Neuron types: 'OUTPUT'\n",
      "\n",
      "WORKING...\n",
      "\n",
      "| =============== EPOCH 1 =============== | MSE: 0.007159259026707804\n",
      "Inputs: [5.6 2.5 3.9 1.1] | Output: [0.5097153130046772] | Expected: [0.5]\n",
      "Inputs: [4.4 3.2 1.3 0.2] | Output: [0.004409189238220877] | Expected: [0]\n",
      "Inputs: [6.3 3.3 4.7 1.6] | Output: [0.5139539291731262] | Expected: [0.5]\n",
      "Inputs: [5.  3.2 1.2 0.2] | Output: [0.0040521122391498215] | Expected: [0]\n",
      "Inputs: [5.4 3.9 1.3 0.4] | Output: [0.0038723983454729593] | Expected: [0]\n",
      "Inputs: [4.8 3.4 1.9 0.2] | Output: [0.006518840654161512] | Expected: [0]\n",
      "Inputs: [6.1 2.8 4.7 1.2] | Output: [0.5193424000252647] | Expected: [0.5]\n",
      "Inputs: [5.4 3.7 1.5 0.2] | Output: [0.003992629792974492] | Expected: [0]\n",
      "Inputs: [5.6 2.7 4.2 1.3] | Output: [0.5135833029784461] | Expected: [0.5]\n",
      "Inputs: [6.1 2.6 5.6 1.4] | Output: [0.9926873287204062] | Expected: [1]\n",
      "Inputs: [5.1 3.5 1.4 0.3] | Output: [0.004172273739358404] | Expected: [0]\n",
      "Inputs: [6.2 3.4 5.4 2.3] | Output: [0.9926869086573831] | Expected: [1]\n",
      "Inputs: [6.  3.4 4.5 1.6] | Output: [0.5124602845091587] | Expected: [0.5]\n",
      "Inputs: [5.9 3.2 4.8 1.8] | Output: [0.9785270717888728] | Expected: [0.5]\n",
      "Inputs: [6.5 3.2 5.1 2. ] | Output: [0.9839439677120918] | Expected: [1]\n",
      "Inputs: [6.5 3.  5.8 2.2] | Output: [0.9926885594994194] | Expected: [1]\n",
      "Inputs: [5.2 3.4 1.4 0.2] | Output: [0.004110864131620827] | Expected: [0]\n",
      "Inputs: [6.4 2.8 5.6 2.1] | Output: [0.992688441906867] | Expected: [1]\n",
      "Inputs: [5.8 2.6 4.  1.2] | Output: [0.5100282751279096] | Expected: [0.5]\n",
      "Inputs: [6.7 3.1 4.4 1.4] | Output: [0.5103139686373124] | Expected: [0.5]\n",
      "Inputs: [5.4 3.  4.5 1.5] | Output: [0.932492038724931] | Expected: [0.5]\n",
      "Inputs: [5.5 2.6 4.4 1.2] | Output: [0.5900549279740059] | Expected: [0.5]\n",
      "Inputs: [5.5 4.2 1.4 0.2] | Output: [0.0037683498229155923] | Expected: [0]\n",
      "Inputs: [6.1 2.8 4.  1.3] | Output: [0.5096656544167057] | Expected: [0.5]\n",
      "Inputs: [4.6 3.2 1.4 0.2] | Output: [0.00455655428989654] | Expected: [0]\n",
      "Inputs: [6.3 3.3 6.  2.5] | Output: [0.9926885913914312] | Expected: [1]\n",
      "Inputs: [5.  3.6 1.4 0.2] | Output: [0.004029219170497969] | Expected: [0]\n",
      "Inputs: [5.7 2.8 4.5 1.3] | Output: [0.5554781721484341] | Expected: [0.5]\n",
      "Inputs: [4.7 3.2 1.3 0.2] | Output: [0.004284920702642881] | Expected: [0]\n",
      "Inputs: [6.3 2.7 4.9 1.8] | Output: [0.9830100768261487] | Expected: [1]\n"
     ]
    }
   ],
   "source": [
    "run_network(iris_nNetwork, 0, X_test, y_test, 1)"
   ]
  },
  {
   "cell_type": "markdown",
   "id": "2856077a",
   "metadata": {},
   "source": [
    "## Digit Dataset"
   ]
  },
  {
   "cell_type": "code",
   "execution_count": null,
   "id": "32425dcf",
   "metadata": {},
   "outputs": [],
   "source": []
  }
 ],
 "metadata": {
  "kernelspec": {
   "display_name": "Python 3",
   "language": "python",
   "name": "python3"
  },
  "language_info": {
   "codemirror_mode": {
    "name": "ipython",
    "version": 3
   },
   "file_extension": ".py",
   "mimetype": "text/x-python",
   "name": "python",
   "nbconvert_exporter": "python",
   "pygments_lexer": "ipython3",
   "version": "3.8.8"
  }
 },
 "nbformat": 4,
 "nbformat_minor": 5
}
