{
 "cells": [
  {
   "cell_type": "markdown",
   "id": "d15cd3b3",
   "metadata": {},
   "source": [
    "# Machine Learning - Practicum 3\n",
    "<b>Student:</b> Justin Klein<br>\n",
    "<b>Nummer:</b> 1707815"
   ]
  },
  {
   "cell_type": "code",
   "execution_count": 1,
   "id": "c616176a",
   "metadata": {},
   "outputs": [],
   "source": [
    "from neuron import Neuron, NeuronLayer, NeuronNetwork"
   ]
  },
  {
   "cell_type": "markdown",
   "id": "45bf1273",
   "metadata": {},
   "source": [
    "## Neuron Test Functie\n",
    "Zie de docstring van de functie voor meer informatie. <b>Zie ook vooral het neuron.py bestand!</b>"
   ]
  },
  {
   "cell_type": "code",
   "execution_count": 2,
   "id": "fa40c07f",
   "metadata": {},
   "outputs": [],
   "source": [
    "def test_neuron(n, inputs, expected):\n",
    "    \"\"\"\n",
    "    This function tests the neuron by comparing the output and expected values.\n",
    "    The print statements and returned output from the 'execute_batch' method will show\n",
    "    if the outputs are what is expected from the sigmoid neuron.\n",
    "    @param n: neuron object\n",
    "    @param inputs: list\n",
    "    @param expected: list\n",
    "    @return: list\n",
    "    \"\"\"\n",
    "    print(f\"\\n{n}\")\n",
    "    return n.execute_batch(inputs, expected)"
   ]
  },
  {
   "cell_type": "code",
   "execution_count": 3,
   "id": "6a06e92a",
   "metadata": {},
   "outputs": [],
   "source": [
    "# Defining all possible inputs for testing.\n",
    "pos_1x = [[1], [0]]\n",
    "pos_2x = [[1, 1], [1, 0], [0, 1], [0, 0]]\n",
    "pos_3x = [[1, 1, 1], [0, 1, 1], [1, 1, 0], [0, 0, 1], [0, 1, 0], [1, 0, 0], [1, 0, 1], [0, 0, 0]]"
   ]
  },
  {
   "cell_type": "markdown",
   "id": "02b62f53",
   "metadata": {},
   "source": [
    "## AND Neuron\n",
    "Hier testen we de AND neuron met originele en custom parameters."
   ]
  },
  {
   "cell_type": "code",
   "execution_count": 4,
   "id": "81b5ed36",
   "metadata": {},
   "outputs": [],
   "source": [
    "n1_1 = Neuron(\"AND\", [0.5, 0.5], -1)\n",
    "n1_2 = Neuron(\"AND\", [4.75, 4.75], -7)"
   ]
  },
  {
   "cell_type": "code",
   "execution_count": 5,
   "id": "79a5fa61",
   "metadata": {},
   "outputs": [
    {
     "name": "stdout",
     "output_type": "stream",
     "text": [
      "\n",
      "Neuron | Type: 'AND' | Weights: '[0.5, 0.5]' | Bias: '-1'\n",
      "[AND] | Input: [1, 1] | Output: 0.5 | Expected: 1\n",
      "[AND] | Input: [1, 0] | Output: 0.3775406687981454 | Expected: 0\n",
      "[AND] | Input: [0, 1] | Output: 0.3775406687981454 | Expected: 0\n",
      "[AND] | Input: [0, 0] | Output: 0.2689414213699951 | Expected: 0\n",
      "\n",
      "Neuron | Type: 'AND' | Weights: '[4.75, 4.75]' | Bias: '-7'\n",
      "[AND] | Input: [1, 1] | Output: 0.9241418199787566 | Expected: 1\n",
      "[AND] | Input: [1, 0] | Output: 0.0953494648991095 | Expected: 0\n",
      "[AND] | Input: [0, 1] | Output: 0.0953494648991095 | Expected: 0\n",
      "[AND] | Input: [0, 0] | Output: 0.0009110511944006456 | Expected: 0\n"
     ]
    },
    {
     "data": {
      "text/plain": [
       "[0.9241418199787566,\n",
       " 0.0953494648991095,\n",
       " 0.0953494648991095,\n",
       " 0.0009110511944006456]"
      ]
     },
     "execution_count": 5,
     "metadata": {},
     "output_type": "execute_result"
    }
   ],
   "source": [
    "test_neuron(n1_1, pos_2x, [1, 0, 0, 0])\n",
    "test_neuron(n1_2, pos_2x, [1, 0, 0, 0])"
   ]
  },
  {
   "cell_type": "markdown",
   "id": "1ef421b9",
   "metadata": {},
   "source": [
    "Uit de bovenstaande uitvoer kunnen we concluderen dat de versie 1_2 AND gate met weights [4.75, 4.75] en bias -7 beter werkt dan de originele parameters. De getallen liggen heel dicht bij hun verwachtte waardes."
   ]
  },
  {
   "cell_type": "markdown",
   "id": "209049d5",
   "metadata": {},
   "source": [
    "## OR Neuron\n",
    "Hier testen we de OR neuron met originele en custom parameters."
   ]
  },
  {
   "cell_type": "code",
   "execution_count": 6,
   "id": "3889c631",
   "metadata": {},
   "outputs": [],
   "source": [
    "n2_1 = Neuron(\"OR\", [0.1, 0.1], -0.1)\n",
    "n2_2 = Neuron(\"OR\", [4.75, 5.25], -2.25)"
   ]
  },
  {
   "cell_type": "code",
   "execution_count": 7,
   "id": "66c08232",
   "metadata": {},
   "outputs": [
    {
     "name": "stdout",
     "output_type": "stream",
     "text": [
      "\n",
      "Neuron | Type: 'OR' | Weights: '[0.1, 0.1]' | Bias: '-0.1'\n",
      "[OR] | Input: [1, 1] | Output: 0.52497918747894 | Expected: 1\n",
      "[OR] | Input: [1, 0] | Output: 0.5 | Expected: 1\n",
      "[OR] | Input: [0, 1] | Output: 0.5 | Expected: 1\n",
      "[OR] | Input: [0, 0] | Output: 0.47502081252106 | Expected: 0\n",
      "\n",
      "Neuron | Type: 'OR' | Weights: '[4.75, 5.25]' | Bias: '-2.25'\n",
      "[OR] | Input: [1, 1] | Output: 0.9995694429186754 | Expected: 1\n",
      "[OR] | Input: [1, 0] | Output: 0.9241418199787566 | Expected: 1\n",
      "[OR] | Input: [0, 1] | Output: 0.9525741268224331 | Expected: 1\n",
      "[OR] | Input: [0, 0] | Output: 0.0953494648991095 | Expected: 0\n"
     ]
    },
    {
     "data": {
      "text/plain": [
       "[0.9995694429186754,\n",
       " 0.9241418199787566,\n",
       " 0.9525741268224331,\n",
       " 0.0953494648991095]"
      ]
     },
     "execution_count": 7,
     "metadata": {},
     "output_type": "execute_result"
    }
   ],
   "source": [
    "test_neuron(n2_1, pos_2x, [1, 1, 1, 0])\n",
    "test_neuron(n2_2, pos_2x, [1, 1, 1, 0])"
   ]
  },
  {
   "cell_type": "markdown",
   "id": "3e18914a",
   "metadata": {},
   "source": [
    "Deze neuron werkt ook beter met andere weights. De originele perceptron weights (versie 2_1) hebben weinig effect op de output en blijft het dus rond de 0.5 hangen. Als we de weights en bias flink aanpassen in versie 2_2 krijgen we een heel goed effect. Nu zien we dat de getallen veel dichter bij de 0 of 1 liggen."
   ]
  },
  {
   "cell_type": "markdown",
   "id": "747a4a84",
   "metadata": {},
   "source": [
    "## NOT (INVERT) Neuron\n",
    "Hier testen we de NOT neuron met originele en custom parameters."
   ]
  },
  {
   "cell_type": "code",
   "execution_count": 8,
   "id": "0ec3e00e",
   "metadata": {},
   "outputs": [],
   "source": [
    "n3_1 = Neuron(\"OR\", [0.1, 0.1], -0.1)\n",
    "n3_2 = Neuron(\"OR\", [-6, 2], 3)"
   ]
  },
  {
   "cell_type": "code",
   "execution_count": 9,
   "id": "ec8712f5",
   "metadata": {},
   "outputs": [
    {
     "name": "stdout",
     "output_type": "stream",
     "text": [
      "\n",
      "Neuron | Type: 'OR' | Weights: '[0.1, 0.1]' | Bias: '-0.1'\n",
      "[OR] | Input: [1] | Output: 0.5 | Expected: 0\n",
      "[OR] | Input: [0] | Output: 0.47502081252106 | Expected: 1\n",
      "\n",
      "Neuron | Type: 'OR' | Weights: '[-6, 2]' | Bias: '3'\n",
      "[OR] | Input: [1] | Output: 0.04742587317756679 | Expected: 0\n",
      "[OR] | Input: [0] | Output: 0.9525741268224331 | Expected: 1\n"
     ]
    },
    {
     "data": {
      "text/plain": [
       "[0.04742587317756679, 0.9525741268224331]"
      ]
     },
     "execution_count": 9,
     "metadata": {},
     "output_type": "execute_result"
    }
   ],
   "source": [
    "test_neuron(n3_1, pos_1x, [0, 1])\n",
    "test_neuron(n3_2, pos_1x, [0, 1])"
   ]
  },
  {
   "cell_type": "markdown",
   "id": "e79907ec",
   "metadata": {},
   "source": [
    "Ook deze neuron werkt beter met andere weights. De originele perceptron weights (versie 3_1) hebben weinig effect op de output en blijft het dus ook weer rond de 0.5 hangen. Als we de weights en bias weer flink aanpassen in versie 3_2 krijgen we de juiste outputs."
   ]
  },
  {
   "cell_type": "markdown",
   "id": "5f03936b",
   "metadata": {},
   "source": [
    "## NOR Neuron\n",
    "Hier testen we de NOR neuron."
   ]
  },
  {
   "cell_type": "code",
   "execution_count": 10,
   "id": "2e337c25",
   "metadata": {},
   "outputs": [],
   "source": [
    "n4_1 = Neuron(\"NOR 3x\", [-1, -1, -1], 0)\n",
    "n4_2 = Neuron(\"NOR 3x\", [-4, -4, -4], 3)"
   ]
  },
  {
   "cell_type": "code",
   "execution_count": 11,
   "id": "effeaf9e",
   "metadata": {},
   "outputs": [
    {
     "name": "stdout",
     "output_type": "stream",
     "text": [
      "\n",
      "Neuron | Type: 'NOR 3x' | Weights: '[-1, -1, -1]' | Bias: '0'\n",
      "[NOR 3x] | Input: [1, 1, 1] | Output: 0.04742587317756679 | Expected: 0\n",
      "[NOR 3x] | Input: [0, 1, 1] | Output: 0.11920292202211757 | Expected: 0\n",
      "[NOR 3x] | Input: [1, 1, 0] | Output: 0.11920292202211757 | Expected: 0\n",
      "[NOR 3x] | Input: [0, 0, 1] | Output: 0.2689414213699951 | Expected: 0\n",
      "[NOR 3x] | Input: [0, 1, 0] | Output: 0.2689414213699951 | Expected: 0\n",
      "[NOR 3x] | Input: [1, 0, 0] | Output: 0.2689414213699951 | Expected: 0\n",
      "[NOR 3x] | Input: [1, 0, 1] | Output: 0.11920292202211757 | Expected: 0\n",
      "[NOR 3x] | Input: [0, 0, 0] | Output: 0.5 | Expected: 1\n",
      "\n",
      "Neuron | Type: 'NOR 3x' | Weights: '[-4, -4, -4]' | Bias: '3'\n",
      "[NOR 3x] | Input: [1, 1, 1] | Output: 0.0001233945759862318 | Expected: 0\n",
      "[NOR 3x] | Input: [0, 1, 1] | Output: 0.006692850924284857 | Expected: 0\n",
      "[NOR 3x] | Input: [1, 1, 0] | Output: 0.006692850924284857 | Expected: 0\n",
      "[NOR 3x] | Input: [0, 0, 1] | Output: 0.2689414213699951 | Expected: 0\n",
      "[NOR 3x] | Input: [0, 1, 0] | Output: 0.2689414213699951 | Expected: 0\n",
      "[NOR 3x] | Input: [1, 0, 0] | Output: 0.2689414213699951 | Expected: 0\n",
      "[NOR 3x] | Input: [1, 0, 1] | Output: 0.006692850924284857 | Expected: 0\n",
      "[NOR 3x] | Input: [0, 0, 0] | Output: 0.9525741268224331 | Expected: 1\n"
     ]
    },
    {
     "data": {
      "text/plain": [
       "[0.0001233945759862318,\n",
       " 0.006692850924284857,\n",
       " 0.006692850924284857,\n",
       " 0.2689414213699951,\n",
       " 0.2689414213699951,\n",
       " 0.2689414213699951,\n",
       " 0.006692850924284857,\n",
       " 0.9525741268224331]"
      ]
     },
     "execution_count": 11,
     "metadata": {},
     "output_type": "execute_result"
    }
   ],
   "source": [
    "test_neuron(n4_1, pos_3x, [0, 0, 0, 0, 0, 0, 0, 1])\n",
    "test_neuron(n4_2, pos_3x, [0, 0, 0, 0, 0, 0, 0, 1])"
   ]
  },
  {
   "cell_type": "markdown",
   "id": "8b1f4c33",
   "metadata": {},
   "source": [
    "De originele perceptron weights (versie 4_1) heeft over het algemeen een juiste output. De laatste input [0, 0, 0] heeft bij versie 4_1 echter een 0.5 wat niet handig is. Als we de weights en bias flink aanpassen in versie 4_2 krijgen we de juiste outputs en zelfs wat verbeteringen."
   ]
  },
  {
   "cell_type": "markdown",
   "id": "bd677f60",
   "metadata": {},
   "source": [
    "# HALF ADDER Neuron Network"
   ]
  },
  {
   "cell_type": "markdown",
   "id": "08325bc9",
   "metadata": {},
   "source": [
    "## Extra neurons for Half Adder\n",
    "Hier heb ik de andere neurons ge-defined voor de half-adder. Dit vereiste wat werk met de weights maar zoals hieronder te zien is heb ik ze alle drie op zo goed mogelijke waardes kunnen laten komen. Hiermee kunnen we dus een netwerk opzetten voor de Half-Adder."
   ]
  },
  {
   "cell_type": "code",
   "execution_count": 12,
   "id": "67e49977",
   "metadata": {},
   "outputs": [],
   "source": [
    "n5 = Neuron(\"NAND\", [-5, -5.25], 8)\n",
    "n6 = Neuron(\"PASSTROUGH\", [-0.5, -0.75, 5], -1.5)\n",
    "n7 = Neuron(\"HA-AND\", [6, 6, 0], -9)"
   ]
  },
  {
   "cell_type": "code",
   "execution_count": 13,
   "id": "6b733c36",
   "metadata": {},
   "outputs": [
    {
     "name": "stdout",
     "output_type": "stream",
     "text": [
      "\n",
      "Neuron | Type: 'NAND' | Weights: '[-5, -5.25]' | Bias: '8'\n",
      "[NAND] | Input: [1, 1] | Output: 0.0953494648991095 | Expected: 0\n",
      "[NAND] | Input: [1, 0] | Output: 0.9525741268224331 | Expected: 1\n",
      "[NAND] | Input: [0, 1] | Output: 0.9399133498259924 | Expected: 1\n",
      "[NAND] | Input: [0, 0] | Output: 0.9996646498695336 | Expected: 1\n",
      "\n",
      "Neuron | Type: 'PASSTROUGH' | Weights: '[-0.5, -0.75, 5]' | Bias: '-1.5'\n",
      "[PASSTROUGH] | Input: [1, 1, 1] | Output: 0.9046505351008904 | Expected: 1\n",
      "[PASSTROUGH] | Input: [0, 1, 1] | Output: 0.9399133498259924 | Expected: 1\n",
      "[PASSTROUGH] | Input: [1, 1, 0] | Output: 0.060086650174007626 | Expected: 0\n",
      "[PASSTROUGH] | Input: [0, 0, 1] | Output: 0.9706877692486436 | Expected: 1\n",
      "[PASSTROUGH] | Input: [0, 1, 0] | Output: 0.0953494648991095 | Expected: 0\n",
      "[PASSTROUGH] | Input: [1, 0, 0] | Output: 0.11920292202211757 | Expected: 0\n",
      "[PASSTROUGH] | Input: [1, 0, 1] | Output: 0.9525741268224331 | Expected: 1\n",
      "[PASSTROUGH] | Input: [0, 0, 0] | Output: 0.18242552380635635 | Expected: 0\n",
      "\n",
      "Neuron | Type: 'HA-AND' | Weights: '[6, 6, 0]' | Bias: '-9'\n",
      "[HA-AND] | Input: [1, 1, 1] | Output: 0.9525741268224331 | Expected: 1\n",
      "[HA-AND] | Input: [0, 1, 1] | Output: 0.04742587317756679 | Expected: 0\n",
      "[HA-AND] | Input: [1, 1, 0] | Output: 0.9525741268224331 | Expected: 1\n",
      "[HA-AND] | Input: [0, 0, 1] | Output: 0.0001233945759862318 | Expected: 0\n",
      "[HA-AND] | Input: [0, 1, 0] | Output: 0.04742587317756679 | Expected: 0\n",
      "[HA-AND] | Input: [1, 0, 0] | Output: 0.04742587317756679 | Expected: 0\n",
      "[HA-AND] | Input: [1, 0, 1] | Output: 0.04742587317756679 | Expected: 0\n",
      "[HA-AND] | Input: [0, 0, 0] | Output: 0.0001233945759862318 | Expected: 0\n"
     ]
    },
    {
     "data": {
      "text/plain": [
       "[0.9525741268224331,\n",
       " 0.04742587317756679,\n",
       " 0.9525741268224331,\n",
       " 0.0001233945759862318,\n",
       " 0.04742587317756679,\n",
       " 0.04742587317756679,\n",
       " 0.04742587317756679,\n",
       " 0.0001233945759862318]"
      ]
     },
     "execution_count": 13,
     "metadata": {},
     "output_type": "execute_result"
    }
   ],
   "source": [
    "test_neuron(n5, pos_2x, [0, 1, 1, 1])\n",
    "test_neuron(n6, pos_3x, [1, 1, 0, 1, 0, 0, 1, 0])\n",
    "test_neuron(n7, pos_3x, [1, 0, 1, 0, 0, 0, 0, 0])"
   ]
  },
  {
   "cell_type": "markdown",
   "id": "03a6ec81",
   "metadata": {},
   "source": [
    "## Execution\n",
    "Nu gaan we het netwerk in elkaar zetten door de zojuist gemaakte neurons in layers te plaatsen. Deze layers voegen we vervolgens samen tot het Neuron Netwerk. Dit netwerk gaan we nu testen."
   ]
  },
  {
   "cell_type": "code",
   "execution_count": 14,
   "id": "67c1c3de",
   "metadata": {},
   "outputs": [],
   "source": [
    "nLayer1_1 = NeuronLayer('NAND, OR, AND', [n5, n2_2, n1_2])\n",
    "nLayer1_2 = NeuronLayer('HA-AND, PASSTROUGH', [n7, n6])\n",
    "nNetwork1 = NeuronNetwork('HALF ADDER', [nLayer1_1, nLayer1_2])"
   ]
  },
  {
   "cell_type": "code",
   "execution_count": 15,
   "id": "647e794d",
   "metadata": {},
   "outputs": [],
   "source": [
    "def test_network(net, inputs, expected):\n",
    "    \"\"\"\n",
    "    Mostly same as the test_perceptor() function but for a network.\n",
    "    The function also prints the layers of the network to visualize it's structure.\n",
    "    @param net: network object\n",
    "    @param inputs: list\n",
    "    @param expected: list\n",
    "    @return: list\n",
    "    \"\"\"\n",
    "    print(f\"\\n{net}\")\n",
    "    for layer in net.get_layers():\n",
    "        print(layer)\n",
    "    return net.feed_forward(inputs, expected)"
   ]
  },
  {
   "cell_type": "code",
   "execution_count": 16,
   "id": "a966308b",
   "metadata": {
    "scrolled": true
   },
   "outputs": [
    {
     "name": "stdout",
     "output_type": "stream",
     "text": [
      "\n",
      "Perceptron Network | Type: 'HALF ADDER' | Amount of Layers: '2'\n",
      "Perceptron Layer | Amount of Perceptrons: '3' | Perceptron types: 'NAND, OR, AND'\n",
      "Perceptron Layer | Amount of Perceptrons: '2' | Perceptron types: 'HA-AND, PASSTROUGH'\n",
      "[HALF ADDER] | Input: [1, 1] | Output: [0.08087729135279455, 0.9107930933137146] | Expected: [0, 1]\n",
      "[HALF ADDER] | Input: [1, 0] | Output: [0.9055349270398524, 0.10041281791849477] | Expected: [1, 0]\n",
      "[HALF ADDER] | Input: [0, 1] | Output: [0.9133248863920761, 0.09906651433960631] | Expected: [1, 0]\n",
      "[HALF ADDER] | Input: [0, 0] | Output: [0.08091976543279096, 0.11236689044424521] | Expected: [0, 0]\n"
     ]
    },
    {
     "data": {
      "text/plain": [
       "[[0.08087729135279455, 0.9107930933137146],\n",
       " [0.9055349270398524, 0.10041281791849477],\n",
       " [0.9133248863920761, 0.09906651433960631],\n",
       " [0.08091976543279096, 0.11236689044424521]]"
      ]
     },
     "execution_count": 16,
     "metadata": {},
     "output_type": "execute_result"
    }
   ],
   "source": [
    "test_network(nNetwork1, pos_2x, [[0, 1], [1, 0], [1, 0], [0, 0]])"
   ]
  },
  {
   "cell_type": "markdown",
   "id": "e615c2bb",
   "metadata": {},
   "source": [
    "## Conclusie\n",
    "Aan de output te zien komen de uitkomsten heel dicht bij de gewenste waardes. <br>Hieruit kunnen we dus concluderen dat het half-adder netwerk werkt naar behoren."
   ]
  }
 ],
 "metadata": {
  "kernelspec": {
   "display_name": "Python 3",
   "language": "python",
   "name": "python3"
  },
  "language_info": {
   "codemirror_mode": {
    "name": "ipython",
    "version": 3
   },
   "file_extension": ".py",
   "mimetype": "text/x-python",
   "name": "python",
   "nbconvert_exporter": "python",
   "pygments_lexer": "ipython3",
   "version": "3.8.8"
  }
 },
 "nbformat": 4,
 "nbformat_minor": 5
}
