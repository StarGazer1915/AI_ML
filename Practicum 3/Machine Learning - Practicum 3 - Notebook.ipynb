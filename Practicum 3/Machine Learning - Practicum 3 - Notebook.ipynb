{
 "cells": [
  {
   "cell_type": "markdown",
   "id": "d15cd3b3",
   "metadata": {},
   "source": [
    "# Machine Learning - Practicum 3\n",
    "<b>Student:</b> Justin Klein<br>\n",
    "<b>Nummer:</b> 1707815"
   ]
  },
  {
   "cell_type": "code",
   "execution_count": 1,
   "id": "c616176a",
   "metadata": {},
   "outputs": [],
   "source": [
    "from neuron import Neuron, NeuronLayer, NeuronNetwork\n",
    "import numpy as np"
   ]
  },
  {
   "cell_type": "code",
   "execution_count": 2,
   "id": "78dc5517",
   "metadata": {},
   "outputs": [],
   "source": [
    "pos_1x = [[1], [0]]\n",
    "pos_2x = [[1, 1], [1, 0], [0, 1], [0, 0]]\n",
    "pos_3x = [[1, 1, 1], [0, 1, 1], [1, 1, 0],\n",
    "          [0, 0, 1], [0, 1, 0], [1, 0, 0],\n",
    "          [1, 0, 1], [0, 0, 0]]"
   ]
  },
  {
   "cell_type": "markdown",
   "id": "45bf1273",
   "metadata": {},
   "source": [
    "## Neuron Test Function"
   ]
  },
  {
   "cell_type": "code",
   "execution_count": 3,
   "id": "8187c93a",
   "metadata": {},
   "outputs": [],
   "source": [
    "def test_neuron(n, inputs, expected):\n",
    "    \"\"\"\n",
    "    This function tests the neuron by comparing the output and expected values.\n",
    "    The print statements and returned output from the 'execute_batch' method will show\n",
    "    if the outputs are what is expected from the sigmoid neuron.\n",
    "    @param n: neuron object\n",
    "    @param inputs: list\n",
    "    @param expected: list\n",
    "    @return: list\n",
    "    \"\"\"\n",
    "    print(f\"\\n{n}\")\n",
    "    return n.execute_batch(inputs, expected)"
   ]
  },
  {
   "cell_type": "markdown",
   "id": "38949f4d",
   "metadata": {},
   "source": [
    "## AND Neuron\n",
    "Hier testen we de AND neuron."
   ]
  },
  {
   "cell_type": "code",
   "execution_count": 4,
   "id": "2dbd6b7f",
   "metadata": {},
   "outputs": [],
   "source": [
    "p1_1 = Neuron(\"AND\", [0.5, 0.5], -1)\n",
    "p1_2 = Neuron(\"AND\", [4, 4], -5)"
   ]
  },
  {
   "cell_type": "code",
   "execution_count": 5,
   "id": "5b6c6db0",
   "metadata": {},
   "outputs": [
    {
     "name": "stdout",
     "output_type": "stream",
     "text": [
      "\n",
      "Neuron | Type: 'AND' | Weights: '[0.5, 0.5]' | Bias: '-1'\n",
      "[AND] | Input: [1, 1] | Output: 0.5 | Expected: 1\n",
      "[AND] | Input: [1, 0] | Output: 0.3775406687981454 | Expected: 0\n",
      "[AND] | Input: [0, 1] | Output: 0.3775406687981454 | Expected: 0\n",
      "[AND] | Input: [0, 0] | Output: 0.2689414213699951 | Expected: 0\n",
      "\n",
      "Neuron | Type: 'AND' | Weights: '[4, 4]' | Bias: '-5'\n",
      "[AND] | Input: [1, 1] | Output: 0.9525741268224331 | Expected: 1\n",
      "[AND] | Input: [1, 0] | Output: 0.2689414213699951 | Expected: 0\n",
      "[AND] | Input: [0, 1] | Output: 0.2689414213699951 | Expected: 0\n",
      "[AND] | Input: [0, 0] | Output: 0.006692850924284857 | Expected: 0\n"
     ]
    },
    {
     "data": {
      "text/plain": [
       "[0.9525741268224331,\n",
       " 0.2689414213699951,\n",
       " 0.2689414213699951,\n",
       " 0.006692850924284857]"
      ]
     },
     "execution_count": 5,
     "metadata": {},
     "output_type": "execute_result"
    }
   ],
   "source": [
    "test_neuron(p1_1, pos_2x, [1, 0, 0, 0])\n",
    "test_neuron(p1_2, pos_2x, [1, 0, 0, 0])"
   ]
  },
  {
   "cell_type": "markdown",
   "id": "e69d9341",
   "metadata": {},
   "source": [
    "Uit de bovenstaande uitvoer kunnen we concluderen dat de versie 1_2 AND gate met weights [4, 4] en bias -5 beter werkt dan de originele parameters. De getallen liggen heel sterk bij hun verwachtte waardes."
   ]
  },
  {
   "cell_type": "markdown",
   "id": "6c681159",
   "metadata": {},
   "source": [
    "## OR Neuron\n",
    "Hier testen we de OR neuron."
   ]
  },
  {
   "cell_type": "code",
   "execution_count": 6,
   "id": "05eb9aef",
   "metadata": {},
   "outputs": [],
   "source": [
    "p2_1 = Neuron(\"OR\", [0.1, 0.1], -0.1)\n",
    "p2_2 = Neuron(\"OR\", [3.5, 4], -1)"
   ]
  },
  {
   "cell_type": "code",
   "execution_count": 7,
   "id": "bed8fdf3",
   "metadata": {},
   "outputs": [
    {
     "name": "stdout",
     "output_type": "stream",
     "text": [
      "\n",
      "Neuron | Type: 'OR' | Weights: '[0.1, 0.1]' | Bias: '-0.1'\n",
      "[OR] | Input: [1, 1] | Output: 0.52497918747894 | Expected: 1\n",
      "[OR] | Input: [1, 0] | Output: 0.5 | Expected: 1\n",
      "[OR] | Input: [0, 1] | Output: 0.5 | Expected: 1\n",
      "[OR] | Input: [0, 0] | Output: 0.47502081252106 | Expected: 0\n",
      "\n",
      "Neuron | Type: 'OR' | Weights: '[3.5, 4]' | Bias: '-1'\n",
      "[OR] | Input: [1, 1] | Output: 0.998498817743263 | Expected: 1\n",
      "[OR] | Input: [1, 0] | Output: 0.9241418199787566 | Expected: 1\n",
      "[OR] | Input: [0, 1] | Output: 0.9525741268224331 | Expected: 1\n",
      "[OR] | Input: [0, 0] | Output: 0.2689414213699951 | Expected: 0\n"
     ]
    },
    {
     "data": {
      "text/plain": [
       "[0.998498817743263, 0.9241418199787566, 0.9525741268224331, 0.2689414213699951]"
      ]
     },
     "execution_count": 7,
     "metadata": {},
     "output_type": "execute_result"
    }
   ],
   "source": [
    "test_neuron(p2_1, pos_2x, [1, 1, 1, 0])\n",
    "test_neuron(p2_2, pos_2x, [1, 1, 1, 0])"
   ]
  },
  {
   "cell_type": "markdown",
   "id": "59f450dc",
   "metadata": {},
   "source": [
    "Deze neuron werkt ook beter met andere weights. De originele perceptron weights (versie 2_1) hebben weinig effect op de output en blijft het dus rond de 0.5 hangen. Als we de weights en bias flink aanpassen in versie 2_2 krijgen we een heel goed effect. Nu zien we dat de getallen sterker bij de 1 of 0 liggen."
   ]
  },
  {
   "cell_type": "markdown",
   "id": "82bc6a81",
   "metadata": {},
   "source": [
    "## NOT (INVERT) Neuron\n",
    "Hier testen we de NOT neuron."
   ]
  },
  {
   "cell_type": "code",
   "execution_count": 8,
   "id": "481686ab",
   "metadata": {},
   "outputs": [],
   "source": [
    "p3_1 = Neuron(\"OR\", [0.1, 0.1], -0.1)\n",
    "p3_2 = Neuron(\"OR\", [-5, 2], 3)"
   ]
  },
  {
   "cell_type": "code",
   "execution_count": 9,
   "id": "cedc830d",
   "metadata": {},
   "outputs": [
    {
     "name": "stdout",
     "output_type": "stream",
     "text": [
      "\n",
      "Neuron | Type: 'OR' | Weights: '[0.1, 0.1]' | Bias: '-0.1'\n",
      "[OR] | Input: [1] | Output: 0.5 | Expected: 0\n",
      "[OR] | Input: [0] | Output: 0.47502081252106 | Expected: 1\n",
      "\n",
      "Neuron | Type: 'OR' | Weights: '[-5, 2]' | Bias: '3'\n",
      "[OR] | Input: [1] | Output: 0.11920292202211757 | Expected: 0\n",
      "[OR] | Input: [0] | Output: 0.9525741268224331 | Expected: 1\n"
     ]
    },
    {
     "data": {
      "text/plain": [
       "[0.11920292202211757, 0.9525741268224331]"
      ]
     },
     "execution_count": 9,
     "metadata": {},
     "output_type": "execute_result"
    }
   ],
   "source": [
    "test_neuron(p3_1, pos_1x, [0, 1])\n",
    "test_neuron(p3_2, pos_1x, [0, 1])"
   ]
  },
  {
   "cell_type": "markdown",
   "id": "f7a59f5e",
   "metadata": {},
   "source": [
    "Ook deze neuron werkt beter met andere weights. De originele perceptron weights (versie 3_1) hebben weinig effect op de output en blijft het dus ook weer rond de 0.5 hangen. Als we de weights en bias weer flink aanpassen in versie 3_2 krijgen we de juiste outputs."
   ]
  },
  {
   "cell_type": "markdown",
   "id": "a9df3e41",
   "metadata": {},
   "source": [
    "## NOR Neuron\n",
    "Hier testen we de NOR neuron."
   ]
  },
  {
   "cell_type": "code",
   "execution_count": 10,
   "id": "8787de6c",
   "metadata": {},
   "outputs": [],
   "source": [
    "p4_1 = Neuron(\"NOR 3x\", [-1, -1, -1], 0)\n",
    "p4_2 = Neuron(\"NOR 3x\", [-4, -4, -4], 3)"
   ]
  },
  {
   "cell_type": "code",
   "execution_count": 11,
   "id": "051ad59f",
   "metadata": {},
   "outputs": [
    {
     "name": "stdout",
     "output_type": "stream",
     "text": [
      "\n",
      "Neuron | Type: 'NOR 3x' | Weights: '[-1, -1, -1]' | Bias: '0'\n",
      "[NOR 3x] | Input: [1, 1, 1] | Output: 0.04742587317756679 | Expected: 0\n",
      "[NOR 3x] | Input: [0, 1, 1] | Output: 0.11920292202211757 | Expected: 0\n",
      "[NOR 3x] | Input: [1, 1, 0] | Output: 0.11920292202211757 | Expected: 0\n",
      "[NOR 3x] | Input: [0, 0, 1] | Output: 0.2689414213699951 | Expected: 0\n",
      "[NOR 3x] | Input: [0, 1, 0] | Output: 0.2689414213699951 | Expected: 0\n",
      "[NOR 3x] | Input: [1, 0, 0] | Output: 0.2689414213699951 | Expected: 0\n",
      "[NOR 3x] | Input: [1, 0, 1] | Output: 0.11920292202211757 | Expected: 0\n",
      "[NOR 3x] | Input: [0, 0, 0] | Output: 0.5 | Expected: 1\n",
      "\n",
      "Neuron | Type: 'NOR 3x' | Weights: '[-4, -4, -4]' | Bias: '3'\n",
      "[NOR 3x] | Input: [1, 1, 1] | Output: 0.0001233945759862318 | Expected: 0\n",
      "[NOR 3x] | Input: [0, 1, 1] | Output: 0.006692850924284857 | Expected: 0\n",
      "[NOR 3x] | Input: [1, 1, 0] | Output: 0.006692850924284857 | Expected: 0\n",
      "[NOR 3x] | Input: [0, 0, 1] | Output: 0.2689414213699951 | Expected: 0\n",
      "[NOR 3x] | Input: [0, 1, 0] | Output: 0.2689414213699951 | Expected: 0\n",
      "[NOR 3x] | Input: [1, 0, 0] | Output: 0.2689414213699951 | Expected: 0\n",
      "[NOR 3x] | Input: [1, 0, 1] | Output: 0.006692850924284857 | Expected: 0\n",
      "[NOR 3x] | Input: [0, 0, 0] | Output: 0.9525741268224331 | Expected: 1\n"
     ]
    },
    {
     "data": {
      "text/plain": [
       "[0.0001233945759862318,\n",
       " 0.006692850924284857,\n",
       " 0.006692850924284857,\n",
       " 0.2689414213699951,\n",
       " 0.2689414213699951,\n",
       " 0.2689414213699951,\n",
       " 0.006692850924284857,\n",
       " 0.9525741268224331]"
      ]
     },
     "execution_count": 11,
     "metadata": {},
     "output_type": "execute_result"
    }
   ],
   "source": [
    "test_neuron(p4_1, pos_3x, [0, 0, 0, 0, 0, 0, 0, 1])\n",
    "test_neuron(p4_2, pos_3x, [0, 0, 0, 0, 0, 0, 0, 1])"
   ]
  },
  {
   "cell_type": "markdown",
   "id": "3c54958c",
   "metadata": {},
   "source": [
    "De originele perceptron weights (versie 4_1) heeft over het algemeen een juiste output. De laatste input [0, 0, 0] heeft bij versie 4_1 echter een 0.5 wat niet handig is. Als we de weights en bias flink aanpassen in versie 4_2 krijgen we de juiste outputs."
   ]
  },
  {
   "cell_type": "code",
   "execution_count": null,
   "id": "c7cecf5e",
   "metadata": {},
   "outputs": [],
   "source": []
  }
 ],
 "metadata": {
  "kernelspec": {
   "display_name": "Python 3",
   "language": "python",
   "name": "python3"
  },
  "language_info": {
   "codemirror_mode": {
    "name": "ipython",
    "version": 3
   },
   "file_extension": ".py",
   "mimetype": "text/x-python",
   "name": "python",
   "nbconvert_exporter": "python",
   "pygments_lexer": "ipython3",
   "version": "3.8.8"
  }
 },
 "nbformat": 4,
 "nbformat_minor": 5
}
